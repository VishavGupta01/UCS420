{
  "nbformat": 4,
  "nbformat_minor": 0,
  "metadata": {
    "colab": {
      "provenance": []
    },
    "kernelspec": {
      "name": "python3",
      "display_name": "Python 3"
    },
    "language_info": {
      "name": "python"
    }
  },
  "cells": [
    {
      "cell_type": "markdown",
      "source": [
        "# Assignment 5.1: WAP to find max amoung three numbers and input from user.  [Try max() function]"
      ],
      "metadata": {
        "id": "NqiQyyiiiEpo"
      }
    },
    {
      "cell_type": "code",
      "execution_count": 1,
      "metadata": {
        "colab": {
          "base_uri": "https://localhost:8080/"
        },
        "id": "TkiCOMEaiEDV",
        "outputId": "a726630e-c7f4-4e57-adf3-cbee1909ae9a"
      },
      "outputs": [
        {
          "output_type": "stream",
          "name": "stdout",
          "text": [
            "Enter first number: 15\n",
            "Enter second number: 14\n",
            "Enter third number: 18\n",
            "Maximum number is:  18\n"
          ]
        }
      ],
      "source": [
        "num1 = int(input(\"Enter first number: \"))\n",
        "num2 = int(input(\"Enter second number: \"))\n",
        "num3 = int(input(\"Enter third number: \"))\n",
        "ans = max(num1, num2, num3)\n",
        "print(\"Maximum number is: \", ans)"
      ]
    },
    {
      "cell_type": "markdown",
      "source": [
        "#Assignment 5.2: WAP to add all numbers divisible by 7 and 9 from 1 to n and n is given by the user."
      ],
      "metadata": {
        "id": "bogC2g7CihMe"
      }
    },
    {
      "cell_type": "code",
      "source": [
        "n = int(input(\"Enter a number: \"))\n",
        "sum = 0\n",
        "for i in range(1, n+1):\n",
        "    if i%7 == 0 and i%9 == 0:\n",
        "        sum += i\n",
        "print(\"Sum of all numbers divisible by 7 and 9 is: \", sum)"
      ],
      "metadata": {
        "colab": {
          "base_uri": "https://localhost:8080/"
        },
        "id": "c6WAH9j7imoQ",
        "outputId": "ad1691cf-6d9f-441f-ea59-70b6f0043ba2"
      },
      "execution_count": 3,
      "outputs": [
        {
          "output_type": "stream",
          "name": "stdout",
          "text": [
            "Enter a number: 250\n",
            "Sum of all numbers divisible by 7 and 9 is:  378\n"
          ]
        }
      ]
    },
    {
      "cell_type": "markdown",
      "source": [
        "#Assignment 5.3: WAP to add all prime numbers from 1 to n and n is given by the user."
      ],
      "metadata": {
        "id": "HV0u-q0Ki0Z2"
      }
    },
    {
      "cell_type": "code",
      "source": [
        "n = int(input(\"Enter a number: \"))\n",
        "sum = 0\n",
        "for i in range(2, n//2+1):\n",
        "  if n%i != 0:\n",
        "    sum += i\n",
        "print(\"Sum of all prime numbers is:\", sum)"
      ],
      "metadata": {
        "colab": {
          "base_uri": "https://localhost:8080/"
        },
        "id": "tdrRoK3qi1oV",
        "outputId": "4e38e839-f0e4-4a42-d3ea-f4b3af64b67e"
      },
      "execution_count": 4,
      "outputs": [
        {
          "output_type": "stream",
          "name": "stdout",
          "text": [
            "Enter a number: 25\n",
            "Sum of all prime numbers is: 72\n"
          ]
        }
      ]
    }
  ]
}