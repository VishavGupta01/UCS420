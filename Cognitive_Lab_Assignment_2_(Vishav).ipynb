{
  "nbformat": 4,
  "nbformat_minor": 0,
  "metadata": {
    "colab": {
      "provenance": []
    },
    "kernelspec": {
      "name": "python3",
      "display_name": "Python 3"
    },
    "language_info": {
      "name": "python"
    }
  },
  "cells": [
    {
      "cell_type": "markdown",
      "source": [
        "#Assignment 2 - Submitted By : Vishav Gupta [102497018]\n"
      ],
      "metadata": {
        "id": "EgN0i77iX5pX"
      }
    },
    {
      "cell_type": "markdown",
      "source": [
        "Q 1. Create a List L that is defined as= [10, 20, 30, 40, 50, 60, 70, 80].\n",
        "\n",
        "i. WAP to add 200 and 300 to L.\n",
        "\n",
        "ii. WAP to remove 10 and 30 from L.\n",
        "\n",
        "iii. WAP to sort L in ascending order.\n",
        "\n",
        "iv. WAP to sort L in descending order."
      ],
      "metadata": {
        "id": "0zXan9XiX9yO"
      }
    },
    {
      "cell_type": "code",
      "source": [
        "L = [10, 20, 30, 40, 50, 60, 70, 80]\n",
        "print(\"i. WAP to add 200 and 300 to L: \")\n",
        "L.extend([200,300])\n",
        "print(L)\n",
        "\n",
        "print(\"ii. WAP to remove 10 and 30 from L: \")\n",
        "L.remove(10)\n",
        "L.remove(30)\n",
        "print(L)\n",
        "\n",
        "print(\"iii. WAP to sort L in ascending order: \")\n",
        "print(sorted(L))\n",
        "\n",
        "print(\"iv. WAP to sort L in descending order: \")\n",
        "print(sorted(L, reverse = True))"
      ],
      "metadata": {
        "colab": {
          "base_uri": "https://localhost:8080/"
        },
        "id": "X0A2Fg6QX7wx",
        "outputId": "738bc95f-ae61-43e9-d66d-fe6ac6db3095"
      },
      "execution_count": null,
      "outputs": [
        {
          "output_type": "stream",
          "name": "stdout",
          "text": [
            "i. WAP to add 200 and 300 to L: \n",
            "[10, 20, 30, 40, 50, 60, 70, 80, 200, 300]\n",
            "ii. WAP to remove 10 and 30 from L: \n",
            "[20, 40, 50, 60, 70, 80, 200, 300]\n",
            "iii. WAP to sort L in ascending order: \n",
            "[20, 40, 50, 60, 70, 80, 200, 300]\n",
            "iv. WAP to sort L in descending order: \n",
            "[300, 200, 80, 70, 60, 50, 40, 20]\n"
          ]
        }
      ]
    },
    {
      "cell_type": "markdown",
      "source": [
        "Q 2. Create a tuple of marks scored as scores = (45, 89.5, 76, 45.4, 89, 92, 58, 45) and\n",
        "perform the following operations using tuple functions:\n",
        "\n",
        "i. Identify the highest score and its index in the tuple.\n",
        "\n",
        "ii. Find the lowest score and count how many times it appears.\n",
        "\n",
        "iii. Reverse the tuple and return it as a list.\n",
        "\n",
        "iv. Check if a specific score ‘76’ (input by the user) is present in the tuple and\n",
        "print its first occurrence index, or a message saying it’s not present."
      ],
      "metadata": {
        "id": "9oc1jYQZYhYh"
      }
    },
    {
      "cell_type": "code",
      "source": [
        "score = (45, 89.5, 76, 45.4, 89, 92, 58, 45)\n",
        "\n",
        "print(\"i. Identify the highest score and its index in the tuple: \")\n",
        "maxScore = max(score)\n",
        "print(f\"Highest Score: {maxScore} & its Index is {score.index(maxScore)}\")\n",
        "\n",
        "print(\"ii. Find the lowest score and count how many times it appears: \")\n",
        "minScore = min(score)\n",
        "print(f\"Highest Score: {minScore} & its Index is {score.count(minScore)}\")\n",
        "\n",
        "print(\"iii. Reverse the tuple and return it as a list: \")\n",
        "print(list(reversed(score)))\n",
        "\n",
        "print(\"iv. Check if a specific score ‘76’ (input by the user) is present in the tuple and print its first occurrence index, or a message saying it’s not present: \")\n",
        "check_score = int(input(\"\\nEnter a score to check: \"))\n",
        "if check_score in score:\n",
        "  print(\"Score found at index: \", score.index(check_score))\n",
        "else:\n",
        "  print(\"Score not found\")"
      ],
      "metadata": {
        "colab": {
          "base_uri": "https://localhost:8080/"
        },
        "id": "6qZvzQkGdhlg",
        "outputId": "4beaa9d2-2fd5-4382-c7c2-a985a7ee1783"
      },
      "execution_count": 2,
      "outputs": [
        {
          "output_type": "stream",
          "name": "stdout",
          "text": [
            "i. Identify the highest score and its index in the tuple: \n",
            "Highest Score: 92 & its Index is 5\n",
            "ii. Find the lowest score and count how many times it appears: \n",
            "Highest Score: 45 & its Index is 2\n",
            "iii. Reverse the tuple and return it as a list: \n",
            "[45, 58, 92, 89, 45.4, 76, 89.5, 45]\n",
            "iv. Check if a specific score ‘76’ (input by the user) is present in the tuple and print its first occurrence index, or a message saying it’s not present: \n",
            "\n",
            "Enter a score to check: 92\n",
            "Score found at index:  5\n"
          ]
        }
      ]
    },
    {
      "cell_type": "markdown",
      "source": [
        "Q 3. WAP to create a list of 100 random numbers between 100 and 900. Count and print\n",
        "the:\n",
        "\n",
        "i. All odd numbers\n",
        "\n",
        "ii. All even numbers\n",
        "\n",
        "iii. All prime numbers"
      ],
      "metadata": {
        "id": "-AABZHbuYpBF"
      }
    },
    {
      "cell_type": "code",
      "source": [
        "import random\n",
        "\n",
        "random_list = random.sample(range(100,900),100)\n",
        "print(random_list)\n",
        "\n",
        "print(\"\\nOdd numbers:\")\n",
        "for i in random_list:\n",
        "  if i%2 != 0:\n",
        "    print(i, end=', ')\n",
        "\n",
        "print(\"\\nEven numbers:\")\n",
        "for i in random_list:\n",
        "  if i%2 == 0:\n",
        "    print(i, end=', ')\n",
        "\n",
        "print(\"\\nPrime numbers:\")\n",
        "for i in random_list:\n",
        "  if i > 1:\n",
        "    for j in range(2,i):\n",
        "      if i%j == 0:\n",
        "        break\n",
        "    else:\n",
        "      print(i, end=', ')"
      ],
      "metadata": {
        "id": "dzzuLMeAYwVc",
        "colab": {
          "base_uri": "https://localhost:8080/"
        },
        "outputId": "d02cd57f-066d-4424-d566-fd8ff3563a4e"
      },
      "execution_count": 3,
      "outputs": [
        {
          "output_type": "stream",
          "name": "stdout",
          "text": [
            "[518, 859, 685, 787, 156, 691, 569, 286, 409, 326, 401, 538, 388, 797, 133, 466, 229, 184, 487, 816, 550, 190, 412, 233, 122, 247, 608, 134, 145, 113, 352, 642, 662, 519, 756, 646, 769, 655, 398, 124, 317, 707, 549, 577, 224, 173, 474, 334, 270, 580, 103, 734, 308, 641, 127, 454, 664, 830, 468, 582, 653, 786, 503, 281, 815, 892, 200, 195, 266, 560, 484, 746, 837, 476, 374, 584, 886, 613, 524, 542, 742, 817, 556, 426, 765, 877, 667, 711, 217, 896, 196, 552, 586, 329, 304, 255, 456, 633, 311, 774]\n",
            "\n",
            "Odd numbers:\n",
            "859, 685, 787, 691, 569, 409, 401, 797, 133, 229, 487, 233, 247, 145, 113, 519, 769, 655, 317, 707, 549, 577, 173, 103, 641, 127, 653, 503, 281, 815, 195, 837, 613, 817, 765, 877, 667, 711, 217, 329, 255, 633, 311, \n",
            "Even numbers:\n",
            "518, 156, 286, 326, 538, 388, 466, 184, 816, 550, 190, 412, 122, 608, 134, 352, 642, 662, 756, 646, 398, 124, 224, 474, 334, 270, 580, 734, 308, 454, 664, 830, 468, 582, 786, 892, 200, 266, 560, 484, 746, 476, 374, 584, 886, 524, 542, 742, 556, 426, 896, 196, 552, 586, 304, 456, 774, \n",
            "Prime numbers:\n",
            "859, 787, 691, 569, 409, 401, 797, 229, 487, 233, 113, 769, 317, 577, 173, 103, 641, 127, 653, 503, 281, 613, 877, 311, "
          ]
        }
      ]
    },
    {
      "cell_type": "markdown",
      "source": [
        "Q 4. Consider the following two sets, A and B, represenƟng scores of two teams in mulƟple\n",
        "matches. A = {34, 56, 78, 90} and B = {78, 45, 90, 23}\n",
        "\n",
        "WAP to perform the following operaƟons using set functions:\n",
        "\n",
        "i. Find the unique scores achieved by both teams (union of sets).\n",
        "\n",
        "ii. IdenƟfy the scores that are common to both teams (intersecƟon of sets).\n",
        "\n",
        "iii. Find the scores that are exclusive to each team (symmetric difference).\n",
        "\n",
        "iv. Check if the scores of team A are a subset of team B, and if team B's scores are\n",
        "a superset of team A.\n",
        "\n",
        "v. Remove a specific score X (input by the user) from set A if it exists. If not, print\n",
        "a message saying it is not present."
      ],
      "metadata": {
        "id": "D63ByyESYwvM"
      }
    },
    {
      "cell_type": "code",
      "source": [
        "setA = {34,56,78,90}\n",
        "setB = {78,45,90,23}\n",
        "\n",
        "print(\"Unique scores achieved by both teams = \", setA.union(setB))\n",
        "\n",
        "print(\"\\nScores that are common to both teams = \", setA.intersection(setB))\n",
        "\n",
        "print(\"\\nScores that are exclusive to each team = \", setA.symmetric_difference(setB))\n",
        "\n",
        "print(\"\\nIs setA a subset of setB? \", setA.issubset(setB))\n",
        "print(\"Is setB a superset of setA? \", setB.issuperset(setA))\n",
        "\n",
        "x = int(input(\"\\nEnter a score to remove from setA: \"))\n",
        "if x in setA:\n",
        "  setA.remove(x)\n",
        "  print(setA)"
      ],
      "metadata": {
        "id": "cdv58QunY4nU",
        "colab": {
          "base_uri": "https://localhost:8080/"
        },
        "outputId": "f9b16f10-a863-4ad2-9424-46227fa629e2"
      },
      "execution_count": 4,
      "outputs": [
        {
          "output_type": "stream",
          "name": "stdout",
          "text": [
            "Unique scores achieved by both teams =  {34, 45, 78, 23, 56, 90}\n",
            "\n",
            "Scores that are common to both teams =  {90, 78}\n",
            "\n",
            "Scores that are exclusive to each team =  {34, 45, 23, 56}\n",
            "\n",
            "Is setA a subset of setB?  False\n",
            "Is setB a superset of setA?  False\n",
            "\n",
            "Enter a score to remove from setA: 78\n",
            "{56, 34, 90}\n"
          ]
        }
      ]
    },
    {
      "cell_type": "markdown",
      "source": [
        "Q 5. Write a program to rename a key city to a location in the following dictionary.\n",
        "\n",
        "```\n",
        "sample_dict = {\"name\":\"kelly\", \"age\":25, \"salary\":8000, \"city\":\"New York\"}\n",
        "```\n",
        "\n",
        "\n",
        "\n",
        "\n"
      ],
      "metadata": {
        "id": "t558BuL4ZO81"
      }
    },
    {
      "cell_type": "code",
      "source": [
        "dict1 = {\"name\":\"kelly\", \"age\":25, \"salary\":8000, \"city\":\"New York\"}\n",
        "print(\"Original dictionary: \\n\", dict1)\n",
        "\n",
        "dict1[\"location\"] = dict1.pop(\"city\")\n",
        "print(\"\\nDictionary after renaming: \\n\", dict1)"
      ],
      "metadata": {
        "colab": {
          "base_uri": "https://localhost:8080/"
        },
        "id": "rAwj3osGxmNy",
        "outputId": "7f74306c-8b1f-4a7e-c5db-928330f2b5fc"
      },
      "execution_count": 5,
      "outputs": [
        {
          "output_type": "stream",
          "name": "stdout",
          "text": [
            "Original dictionary: \n",
            " {'name': 'kelly', 'age': 25, 'salary': 8000, 'city': 'New York'}\n",
            "\n",
            "Dictionary after renaming: \n",
            " {'name': 'kelly', 'age': 25, 'salary': 8000, 'location': 'New York'}\n"
          ]
        }
      ]
    }
  ]
}