{
  "nbformat": 4,
  "nbformat_minor": 0,
  "metadata": {
    "colab": {
      "provenance": []
    },
    "kernelspec": {
      "name": "python3",
      "display_name": "Python 3"
    },
    "language_info": {
      "name": "python"
    }
  },
  "cells": [
    {
      "cell_type": "markdown",
      "source": [
        "# Lab Assignment 9 - Submitted By : Vishav Gupta [102497018]"
      ],
      "metadata": {
        "id": "-KRXiBNEsiSB"
      }
    },
    {
      "cell_type": "markdown",
      "source": [
        "**Q1. Write a unique paragraph (5-6 sentences) about your favorite topic (e.g., sports,\n",
        "technology, food, books, etc.).**\n",
        "\n"
      ],
      "metadata": {
        "id": "QOMTRcy0smk4"
      }
    },
    {
      "cell_type": "code",
      "execution_count": 1,
      "metadata": {
        "id": "9ZCGx1Q9sCKb"
      },
      "outputs": [],
      "source": [
        "paragraph = \"\"\"Technology has revolutionized the way we live, work, and connect with others.\n",
        "From smartphones to artificial intelligence, each advancement brings new possibilities.\n",
        "We rely on cloud computing for storage and automation for efficiency.\n",
        "The internet has made information accessible in seconds.\n",
        "Tech companies continue to innovate, making our lives more convenient and connected.\"\"\""
      ]
    },
    {
      "cell_type": "markdown",
      "source": [
        "1. Convert text to lowercase and remove punctuation."
      ],
      "metadata": {
        "id": "xWUWLVdZ12us"
      }
    },
    {
      "cell_type": "code",
      "source": [
        "import string\n",
        "\n",
        "text_lower = paragraph.lower()\n",
        "text_no_punct = text_lower.translate(str.maketrans('', '', string.punctuation))\n",
        "print(text_no_punct)"
      ],
      "metadata": {
        "id": "hnAuGHf7tEjw",
        "colab": {
          "base_uri": "https://localhost:8080/"
        },
        "outputId": "0af3bffc-b77e-49fd-abcd-d3dd16d0cc0c"
      },
      "execution_count": 2,
      "outputs": [
        {
          "output_type": "stream",
          "name": "stdout",
          "text": [
            "technology has revolutionized the way we live work and connect with others\n",
            "from smartphones to artificial intelligence each advancement brings new possibilities\n",
            "we rely on cloud computing for storage and automation for efficiency\n",
            "the internet has made information accessible in seconds\n",
            "tech companies continue to innovate making our lives more convenient and connected\n"
          ]
        }
      ]
    },
    {
      "cell_type": "markdown",
      "source": [
        "2. Tokenize the text into words and sentences.\n"
      ],
      "metadata": {
        "id": "gucye2Qf1ngu"
      }
    },
    {
      "cell_type": "code",
      "source": [
        "import nltk\n",
        "from nltk.tokenize import word_tokenize, sent_tokenize\n",
        "\n",
        "nltk.download('punkt_tab')\n",
        "\n",
        "words = word_tokenize(paragraph)\n",
        "\n",
        "sentences = sent_tokenize(paragraph)\n",
        "\n",
        "print(\"Words:\", words)\n",
        "print(\"Sentences:\", sentences)"
      ],
      "metadata": {
        "id": "c8KEcWujtKZh",
        "colab": {
          "base_uri": "https://localhost:8080/"
        },
        "outputId": "6d1bcae7-6ca9-41e2-94d8-0062a20cf80d"
      },
      "execution_count": 7,
      "outputs": [
        {
          "output_type": "stream",
          "name": "stderr",
          "text": [
            "[nltk_data] Downloading package punkt_tab to /root/nltk_data...\n",
            "[nltk_data]   Unzipping tokenizers/punkt_tab.zip.\n"
          ]
        },
        {
          "output_type": "stream",
          "name": "stdout",
          "text": [
            "Words: ['Technology', 'has', 'revolutionized', 'the', 'way', 'we', 'live', ',', 'work', ',', 'and', 'connect', 'with', 'others', '.', 'From', 'smartphones', 'to', 'artificial', 'intelligence', ',', 'each', 'advancement', 'brings', 'new', 'possibilities', '.', 'We', 'rely', 'on', 'cloud', 'computing', 'for', 'storage', 'and', 'automation', 'for', 'efficiency', '.', 'The', 'internet', 'has', 'made', 'information', 'accessible', 'in', 'seconds', '.', 'Tech', 'companies', 'continue', 'to', 'innovate', ',', 'making', 'our', 'lives', 'more', 'convenient', 'and', 'connected', '.']\n",
            "Sentences: ['Technology has revolutionized the way we live, work, and connect with others.', 'From smartphones to artificial intelligence, each advancement brings new possibilities.', 'We rely on cloud computing for storage and automation for efficiency.', 'The internet has made information accessible in seconds.', 'Tech companies continue to innovate, making our lives more convenient and connected.']\n"
          ]
        }
      ]
    },
    {
      "cell_type": "markdown",
      "source": [
        "3. Remove stopwords (using NLTK's stopwords list).\n"
      ],
      "metadata": {
        "id": "_0yzUHg-1pI1"
      }
    },
    {
      "cell_type": "code",
      "source": [
        "from nltk.corpus import stopwords\n",
        "\n",
        "nltk.download('stopwords')\n",
        "\n",
        "stop_words = set(stopwords.words('english'))\n",
        "\n",
        "filtered_words = [word for word in words if word not in stop_words]\n",
        "\n",
        "print(\"Filtered words:\", filtered_words)"
      ],
      "metadata": {
        "colab": {
          "base_uri": "https://localhost:8080/"
        },
        "id": "oBq5HrWD1rIV",
        "outputId": "22217ca5-224f-4373-91e4-51c7e9d86164"
      },
      "execution_count": 9,
      "outputs": [
        {
          "output_type": "stream",
          "name": "stdout",
          "text": [
            "Filtered words: ['Technology', 'revolutionized', 'way', 'live', ',', 'work', ',', 'connect', 'others', '.', 'From', 'smartphones', 'artificial', 'intelligence', ',', 'advancement', 'brings', 'new', 'possibilities', '.', 'We', 'rely', 'cloud', 'computing', 'storage', 'automation', 'efficiency', '.', 'The', 'internet', 'made', 'information', 'accessible', 'seconds', '.', 'Tech', 'companies', 'continue', 'innovate', ',', 'making', 'lives', 'convenient', 'connected', '.']\n"
          ]
        },
        {
          "output_type": "stream",
          "name": "stderr",
          "text": [
            "[nltk_data] Downloading package stopwords to /root/nltk_data...\n",
            "[nltk_data]   Package stopwords is already up-to-date!\n"
          ]
        }
      ]
    },
    {
      "cell_type": "markdown",
      "source": [
        "4. Display word frequency distribution (excluding stopwords)."
      ],
      "metadata": {
        "id": "lah7-KhE1rr9"
      }
    },
    {
      "cell_type": "code",
      "source": [
        "from nltk.probability import FreqDist\n",
        "\n",
        "fdist = FreqDist(filtered_words)\n",
        "\n",
        "fdist.plot(30, cumulative=False)"
      ],
      "metadata": {
        "colab": {
          "base_uri": "https://localhost:8080/",
          "height": 551
        },
        "id": "dpWyCWTn1spk",
        "outputId": "05d2d716-f31a-47dd-d3ea-3083a749a418"
      },
      "execution_count": 10,
      "outputs": [
        {
          "output_type": "execute_result",
          "data": {
            "text/plain": [
              "<Axes: xlabel='Samples', ylabel='Counts'>"
            ]
          },
          "metadata": {},
          "execution_count": 10
        },
        {
          "output_type": "display_data",
          "data": {
            "text/plain": [
              "<Figure size 640x480 with 1 Axes>"
            ],
            "image/png": "[encoded data removed]"
          },
          "metadata": {}
        }
      ]
    },
    {
      "cell_type": "markdown",
      "source": [
        "**Q2: Stemming and Lemmatization**\n"
      ],
      "metadata": {
        "id": "IlZnT6B-3ZrV"
      }
    },
    {
      "cell_type": "markdown",
      "source": [
        "1. Take the tokenized words from Question 1 (after stopword removal).\n"
      ],
      "metadata": {
        "id": "n-APHIyx3qvE"
      }
    },
    {
      "cell_type": "code",
      "source": [
        "print(\"Filtered words:\", filtered_words)"
      ],
      "metadata": {
        "colab": {
          "base_uri": "https://localhost:8080/"
        },
        "id": "ABggSV3e3sXb",
        "outputId": "5f4af055-ff63-424d-df78-12e35efdefbd"
      },
      "execution_count": 11,
      "outputs": [
        {
          "output_type": "stream",
          "name": "stdout",
          "text": [
            "Filtered words: ['Technology', 'revolutionized', 'way', 'live', ',', 'work', ',', 'connect', 'others', '.', 'From', 'smartphones', 'artificial', 'intelligence', ',', 'advancement', 'brings', 'new', 'possibilities', '.', 'We', 'rely', 'cloud', 'computing', 'storage', 'automation', 'efficiency', '.', 'The', 'internet', 'made', 'information', 'accessible', 'seconds', '.', 'Tech', 'companies', 'continue', 'innovate', ',', 'making', 'lives', 'convenient', 'connected', '.']\n"
          ]
        }
      ]
    },
    {
      "cell_type": "markdown",
      "source": [
        "2. Apply stemming using NLTK's PorterStemmer and LancasterStemmer.\n"
      ],
      "metadata": {
        "id": "DhbFTNoV3soz"
      }
    },
    {
      "cell_type": "code",
      "source": [
        "from nltk.stem import PorterStemmer, LancasterStemmer\n",
        "\n",
        "porter_stemmer = PorterStemmer()\n",
        "lancaster_stemmer = LancasterStemmer()\n",
        "\n",
        "porter_stems = [porter_stemmer.stem(word) for word in filtered_words]\n",
        "\n",
        "lancaster_stems = [lancaster_stemmer.stem(word) for word in filtered_words]\n",
        "\n",
        "print(\"\\nPorter Stemmed Words:\", porter_stems)\n",
        "print(\"\\nLancaster Stemmed Words:\", lancaster_stems)"
      ],
      "metadata": {
        "colab": {
          "base_uri": "https://localhost:8080/"
        },
        "id": "HmRxZuwR3t7s",
        "outputId": "64f9d5d3-c9b2-4c2e-9d17-55dfb2d197d0"
      },
      "execution_count": 12,
      "outputs": [
        {
          "output_type": "stream",
          "name": "stdout",
          "text": [
            "\n",
            "Porter Stemmed Words: ['technolog', 'revolution', 'way', 'live', ',', 'work', ',', 'connect', 'other', '.', 'from', 'smartphon', 'artifici', 'intellig', ',', 'advanc', 'bring', 'new', 'possibl', '.', 'we', 'reli', 'cloud', 'comput', 'storag', 'autom', 'effici', '.', 'the', 'internet', 'made', 'inform', 'access', 'second', '.', 'tech', 'compani', 'continu', 'innov', ',', 'make', 'live', 'conveni', 'connect', '.']\n",
            "\n",
            "Lancaster Stemmed Words: ['technolog', 'revolv', 'way', 'liv', ',', 'work', ',', 'connect', 'oth', '.', 'from', 'smartphon', 'art', 'intellig', ',', 'adv', 'bring', 'new', 'poss', '.', 'we', 'rely', 'cloud', 'comput', 'stor', 'autom', 'efficy', '.', 'the', 'internet', 'mad', 'inform', 'access', 'second', '.', 'tech', 'company', 'continu', 'innov', ',', 'mak', 'liv', 'conveny', 'connect', '.']\n"
          ]
        }
      ]
    },
    {
      "cell_type": "markdown",
      "source": [
        "3. Apply lemmatization using NLTK's WordNetLemmatizer.\n"
      ],
      "metadata": {
        "id": "ewim-hpX3uJT"
      }
    },
    {
      "cell_type": "code",
      "source": [
        "from nltk.stem import WordNetLemmatizer\n",
        "\n",
        "lemmatizer = WordNetLemmatizer()\n",
        "\n",
        "nltk.download('wordnet')\n",
        "lemmatized_words = [lemmatizer.lemmatize(word) for word in filtered_words]\n",
        "\n",
        "print(\"\\nLemmatized Words:\", lemmatized_words)"
      ],
      "metadata": {
        "colab": {
          "base_uri": "https://localhost:8080/"
        },
        "id": "wS_t-UFs3vM7",
        "outputId": "97c6a37f-ecb5-4d01-b723-635d21371a7f"
      },
      "execution_count": 13,
      "outputs": [
        {
          "output_type": "stream",
          "name": "stderr",
          "text": [
            "[nltk_data] Downloading package wordnet to /root/nltk_data...\n"
          ]
        },
        {
          "output_type": "stream",
          "name": "stdout",
          "text": [
            "\n",
            "Lemmatized Words: ['Technology', 'revolutionized', 'way', 'live', ',', 'work', ',', 'connect', 'others', '.', 'From', 'smartphones', 'artificial', 'intelligence', ',', 'advancement', 'brings', 'new', 'possibility', '.', 'We', 'rely', 'cloud', 'computing', 'storage', 'automation', 'efficiency', '.', 'The', 'internet', 'made', 'information', 'accessible', 'second', '.', 'Tech', 'company', 'continue', 'innovate', ',', 'making', 'life', 'convenient', 'connected', '.']\n"
          ]
        }
      ]
    },
    {
      "cell_type": "markdown",
      "source": [
        "4. Compare and display results of both techniques."
      ],
      "metadata": {
        "id": "l22NO-X_3vkE"
      }
    },
    {
      "cell_type": "code",
      "source": [
        "print(\"\\nOriginal Words (Filtered):\", filtered_words)\n",
        "print(\"\\nPorter Stemmed Words:\", porter_stems)\n",
        "print(\"\\nLancaster Stemmed Words:\", lancaster_stems)\n",
        "print(\"\\nLemmatized Words:\", lemmatized_words)"
      ],
      "metadata": {
        "colab": {
          "base_uri": "https://localhost:8080/"
        },
        "id": "2-XtPhZc3wE0",
        "outputId": "1c5e0410-afbf-4a18-be99-e706bffc700d"
      },
      "execution_count": 14,
      "outputs": [
        {
          "output_type": "stream",
          "name": "stdout",
          "text": [
            "\n",
            "Original Words (Filtered): ['Technology', 'revolutionized', 'way', 'live', ',', 'work', ',', 'connect', 'others', '.', 'From', 'smartphones', 'artificial', 'intelligence', ',', 'advancement', 'brings', 'new', 'possibilities', '.', 'We', 'rely', 'cloud', 'computing', 'storage', 'automation', 'efficiency', '.', 'The', 'internet', 'made', 'information', 'accessible', 'seconds', '.', 'Tech', 'companies', 'continue', 'innovate', ',', 'making', 'lives', 'convenient', 'connected', '.']\n",
            "\n",
            "Porter Stemmed Words: ['technolog', 'revolution', 'way', 'live', ',', 'work', ',', 'connect', 'other', '.', 'from', 'smartphon', 'artifici', 'intellig', ',', 'advanc', 'bring', 'new', 'possibl', '.', 'we', 'reli', 'cloud', 'comput', 'storag', 'autom', 'effici', '.', 'the', 'internet', 'made', 'inform', 'access', 'second', '.', 'tech', 'compani', 'continu', 'innov', ',', 'make', 'live', 'conveni', 'connect', '.']\n",
            "\n",
            "Lancaster Stemmed Words: ['technolog', 'revolv', 'way', 'liv', ',', 'work', ',', 'connect', 'oth', '.', 'from', 'smartphon', 'art', 'intellig', ',', 'adv', 'bring', 'new', 'poss', '.', 'we', 'rely', 'cloud', 'comput', 'stor', 'autom', 'efficy', '.', 'the', 'internet', 'mad', 'inform', 'access', 'second', '.', 'tech', 'company', 'continu', 'innov', ',', 'mak', 'liv', 'conveny', 'connect', '.']\n",
            "\n",
            "Lemmatized Words: ['Technology', 'revolutionized', 'way', 'live', ',', 'work', ',', 'connect', 'others', '.', 'From', 'smartphones', 'artificial', 'intelligence', ',', 'advancement', 'brings', 'new', 'possibility', '.', 'We', 'rely', 'cloud', 'computing', 'storage', 'automation', 'efficiency', '.', 'The', 'internet', 'made', 'information', 'accessible', 'second', '.', 'Tech', 'company', 'continue', 'innovate', ',', 'making', 'life', 'convenient', 'connected', '.']\n"
          ]
        }
      ]
    },
    {
      "cell_type": "markdown",
      "source": [
        "**Q3. Regular Expressions and Text Spliting**\n",
        "1. Take their original text from Question 1.\n",
        "\n"
      ],
      "metadata": {
        "id": "NF-P_V_Q4Upb"
      }
    },
    {
      "cell_type": "code",
      "source": [
        "print(paragraph)"
      ],
      "metadata": {
        "colab": {
          "base_uri": "https://localhost:8080/"
        },
        "id": "dtZbZUWm4h8z",
        "outputId": "d3d968bc-a709-4fa1-eb4c-e4e7386bbeec"
      },
      "execution_count": 15,
      "outputs": [
        {
          "output_type": "stream",
          "name": "stdout",
          "text": [
            "Technology has revolutionized the way we live, work, and connect with others.\n",
            "From smartphones to artificial intelligence, each advancement brings new possibilities.\n",
            "We rely on cloud computing for storage and automation for efficiency.\n",
            "The internet has made information accessible in seconds.\n",
            "Tech companies continue to innovate, making our lives more convenient and connected.\n"
          ]
        }
      ]
    },
    {
      "cell_type": "markdown",
      "source": [
        "2. Use regular expressions to:\n",
        "- Extract all words with more than 5 letters.\n",
        "- Extract all numbers (if any exist in their text).\n",
        "- Extract all capitalized words."
      ],
      "metadata": {
        "id": "9EUKwgEr4kSb"
      }
    },
    {
      "cell_type": "code",
      "source": [
        "import re\n",
        "\n",
        "words_more_than_5 = re.findall(r'\\b\\w{6,}\\b', paragraph)\n",
        "print(\"Words with more than 5 letters:\", words_more_than_5)\n",
        "\n",
        "numbers = re.findall(r'\\b\\d+\\b', paragraph)\n",
        "print(\"Numbers in the paragraph:\", numbers)\n",
        "\n",
        "capitalized_words = re.findall(r'\\b[A-Z][a-z]*\\b', paragraph)\n",
        "print(\"Capitalized words:\", capitalized_words)"
      ],
      "metadata": {
        "colab": {
          "base_uri": "https://localhost:8080/"
        },
        "id": "TXfXE71E4lD7",
        "outputId": "7c8a167c-0aa4-418b-dd1d-f4df0f914a68"
      },
      "execution_count": 16,
      "outputs": [
        {
          "output_type": "stream",
          "name": "stdout",
          "text": [
            "Words with more than 5 letters: ['Technology', 'revolutionized', 'connect', 'others', 'smartphones', 'artificial', 'intelligence', 'advancement', 'brings', 'possibilities', 'computing', 'storage', 'automation', 'efficiency', 'internet', 'information', 'accessible', 'seconds', 'companies', 'continue', 'innovate', 'making', 'convenient', 'connected']\n",
            "Numbers in the paragraph: []\n",
            "Capitalized words: ['Technology', 'From', 'We', 'The', 'Tech']\n"
          ]
        }
      ]
    },
    {
      "cell_type": "markdown",
      "source": [
        "3. Use text spliting techniques to:\n",
        "- Split the text into words containing only alphabets (removing digits and special\n",
        "characters).\n",
        "- Extract words starting with a vowel."
      ],
      "metadata": {
        "id": "alfhllhu4lSb"
      }
    },
    {
      "cell_type": "code",
      "source": [
        "words_only_alphabets = re.findall(r'\\b[a-zA-Z]+\\b', paragraph)\n",
        "print(\"Words containing only alphabets:\", words_only_alphabets)\n",
        "\n",
        "words_starting_with_vowel = re.findall(r'\\b[aeiouAEIOU]\\w*\\b', paragraph)\n",
        "print(\"Words starting with a vowel:\", words_starting_with_vowel)"
      ],
      "metadata": {
        "colab": {
          "base_uri": "https://localhost:8080/"
        },
        "id": "yvkNn1un4oh7",
        "outputId": "3af168f8-0674-4264-ebde-1497861e6397"
      },
      "execution_count": 17,
      "outputs": [
        {
          "output_type": "stream",
          "name": "stdout",
          "text": [
            "Words containing only alphabets: ['Technology', 'has', 'revolutionized', 'the', 'way', 'we', 'live', 'work', 'and', 'connect', 'with', 'others', 'From', 'smartphones', 'to', 'artificial', 'intelligence', 'each', 'advancement', 'brings', 'new', 'possibilities', 'We', 'rely', 'on', 'cloud', 'computing', 'for', 'storage', 'and', 'automation', 'for', 'efficiency', 'The', 'internet', 'has', 'made', 'information', 'accessible', 'in', 'seconds', 'Tech', 'companies', 'continue', 'to', 'innovate', 'making', 'our', 'lives', 'more', 'convenient', 'and', 'connected']\n",
            "Words starting with a vowel: ['and', 'others', 'artificial', 'intelligence', 'each', 'advancement', 'on', 'and', 'automation', 'efficiency', 'internet', 'information', 'accessible', 'in', 'innovate', 'our', 'and']\n"
          ]
        }
      ]
    },
    {
      "cell_type": "markdown",
      "source": [
        "**Q4. Custom Tokenization & Regex-based Text Cleaning**"
      ],
      "metadata": {
        "id": "f0AGVYBC5RSj"
      }
    },
    {
      "cell_type": "markdown",
      "source": [
        "1. Take original text from Question 1."
      ],
      "metadata": {
        "id": "OHDxYMJ_5WtS"
      }
    },
    {
      "cell_type": "code",
      "source": [
        "print(paragraph)"
      ],
      "metadata": {
        "colab": {
          "base_uri": "https://localhost:8080/"
        },
        "id": "VMrVGPaO5aKL",
        "outputId": "d36b3b52-767f-4ea6-d691-e8d0a19a8d72"
      },
      "execution_count": 18,
      "outputs": [
        {
          "output_type": "stream",
          "name": "stdout",
          "text": [
            "Technology has revolutionized the way we live, work, and connect with others.\n",
            "From smartphones to artificial intelligence, each advancement brings new possibilities.\n",
            "We rely on cloud computing for storage and automation for efficiency.\n",
            "The internet has made information accessible in seconds.\n",
            "Tech companies continue to innovate, making our lives more convenient and connected.\n"
          ]
        }
      ]
    },
    {
      "cell_type": "markdown",
      "source": [
        "2. Write a custom tokenization function that:\n",
        "- Removes punctuation and special symbols, but keeps contractions (e.g.,\n",
        "\"isn't\" should not be split into \"is\" and \"n't\").\n",
        "- Handles hyphenated words as a single token (e.g., \"state-of-the-art\" remains\n",
        "a single token).\n",
        "- Tokenizes numbers separately but keeps decimal numbers intact (e.g., \"3.14\"\n",
        "should remain as is)."
      ],
      "metadata": {
        "id": "_uJE516F5aeC"
      }
    },
    {
      "cell_type": "code",
      "source": [
        "def custom_tokenizer(paragraph):\n",
        "    paragraph = re.sub(r\"[^\\w\\s'-]\", '', paragraph)\n",
        "\n",
        "    tokens = paragraph.split()\n",
        "\n",
        "    tokens = [token if '-' in token else token for token in tokens]\n",
        "\n",
        "    tokens = [token if re.match(r'^\\d+(\\.\\d+)?$', token) else token for token in tokens]\n",
        "\n",
        "    return tokens\n",
        "\n",
        "tokens = custom_tokenizer(paragraph)\n",
        "print(\"Custom Tokenized Words:\", tokens)"
      ],
      "metadata": {
        "colab": {
          "base_uri": "https://localhost:8080/"
        },
        "id": "yKOUZCLq5oba",
        "outputId": "6233fdec-2c73-4966-aeb1-5f9e6f19b5f8"
      },
      "execution_count": 20,
      "outputs": [
        {
          "output_type": "stream",
          "name": "stdout",
          "text": [
            "Custom Tokenized Words: ['Technology', 'has', 'revolutionized', 'the', 'way', 'we', 'live', 'work', 'and', 'connect', 'with', 'others', 'From', 'smartphones', 'to', 'artificial', 'intelligence', 'each', 'advancement', 'brings', 'new', 'possibilities', 'We', 'rely', 'on', 'cloud', 'computing', 'for', 'storage', 'and', 'automation', 'for', 'efficiency', 'The', 'internet', 'has', 'made', 'information', 'accessible', 'in', 'seconds', 'Tech', 'companies', 'continue', 'to', 'innovate', 'making', 'our', 'lives', 'more', 'convenient', 'and', 'connected']\n"
          ]
        }
      ]
    },
    {
      "cell_type": "markdown",
      "source": [
        "3. Use Regex Substitutions (re.sub) to:\n",
        "- Replace email addresses with '<EMAIL>' placeholder.\n",
        "- Replace URLs with '<URL>' placeholder.\n",
        "- Replace phone numbers (formats: 123-456-7890 or +91 9876543210) with\n",
        "'<PHONE>' placeholder."
      ],
      "metadata": {
        "id": "C2Xj_KOK5x36"
      }
    },
    {
      "cell_type": "code",
      "source": [
        "text_with_data = \"\"\"\n",
        "Please contact us at support@example.com or visit our website at https://www.example.com for more details.\n",
        "You can also reach us at +91 9876543210 or 123-456-7890 for immediate support.\n",
        "Don't hesitate to ask for help, we're here to assist you! Thanks, support@example.com\n",
        "\"\"\"\n",
        "\n",
        "def regex_substitutions(text):\n",
        "    text = re.sub(r'\\b[A-Za-z0-9._%+-]+@[A-Za-z0-9.-]+\\.[A-Za-z]{2,}\\b', '<EMAIL>', text)\n",
        "\n",
        "    text = re.sub(r'https?://\\S+', '<URL>', text)\n",
        "\n",
        "    text = re.sub(r'(\\+?\\d{1,2}\\s?)?(\\d{3}[-.\\s]?)?(\\d{3}[-.\\s]?)\\d{4}', '<PHONE>', text)\n",
        "\n",
        "    return text\n",
        "\n",
        "cleaned_text = regex_substitutions(text_with_data)\n",
        "print(\"\\nCleaned Text:\", cleaned_text)"
      ],
      "metadata": {
        "colab": {
          "base_uri": "https://localhost:8080/"
        },
        "id": "Ra5f4ahW51hC",
        "outputId": "c80fde65-e4ea-448d-a3c2-b9ce31f17602"
      },
      "execution_count": 21,
      "outputs": [
        {
          "output_type": "stream",
          "name": "stdout",
          "text": [
            "\n",
            "Cleaned Text: \n",
            "Please contact us at <EMAIL> or visit our website at <URL> for more details.\n",
            "You can also reach us at <PHONE> or <PHONE> for immediate support.\n",
            "Don't hesitate to ask for help, we're here to assist you! Thanks, <EMAIL>\n",
            "\n"
          ]
        }
      ]
    }
  ]
}