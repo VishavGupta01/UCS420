{
  "nbformat": 4,
  "nbformat_minor": 0,
  "metadata": {
    "colab": {
      "provenance": []
    },
    "kernelspec": {
      "name": "python3",
      "display_name": "Python 3"
    },
    "language_info": {
      "name": "python"
    }
  },
  "cells": [
    {
      "cell_type": "markdown",
      "source": [
        "# Lab Assignment 4 - Submitted By : Vishav Gupta [102497018]"
      ],
      "metadata": {
        "id": "PnS_d2e4Nhrv"
      }
    },
    {
      "cell_type": "markdown",
      "source": [
        "Q.1 Write a program to create a NumPy 1D-array with 5 elements and perform basic\n",
        "operations like:\n",
        "\n",
        "a) Addition of 2 in all the element\n",
        "\n",
        "b) Multiply 3 with all the elements\n",
        "\n",
        "c) Divide every element by 2"
      ],
      "metadata": {
        "id": "AZhOXRC1NlFV"
      }
    },
    {
      "cell_type": "code",
      "execution_count": 1,
      "metadata": {
        "colab": {
          "base_uri": "https://localhost:8080/"
        },
        "id": "P31gdboaNKxc",
        "outputId": "341f3406-f8fc-45a1-d4d3-2ffb3525df5a"
      },
      "outputs": [
        {
          "output_type": "stream",
          "name": "stdout",
          "text": [
            "Original array: [1 2 3 4 5]\n",
            "After adding 2 to all elements: [3 4 5 6 7]\n",
            "After multiplying all elements by 3: [ 3  6  9 12 15]\n",
            "After dividing all elements by 2: [0.5 1.  1.5 2.  2.5]\n"
          ]
        }
      ],
      "source": [
        "import numpy as np\n",
        "\n",
        "\n",
        "arr = np.array([1, 2, 3, 4, 5])\n",
        "print(\"Original array:\", arr)\n",
        "\n",
        "# a) Addition of 2 in all the element\n",
        "add_arr = arr + 2\n",
        "print(\"After adding 2 to all elements:\", add_arr)\n",
        "\n",
        "# b) Multiply 3 with all the elements\n",
        "mul_arr = arr * 3\n",
        "print(\"After multiplying all elements by 3:\", mul_arr)\n",
        "\n",
        "# c) Divide every element by 2\n",
        "div_arr = arr / 2\n",
        "print(\"After dividing all elements by 2:\", div_arr)"
      ]
    },
    {
      "cell_type": "markdown",
      "source": [
        "Q.2 Questions on Basic NumPy Array:\n",
        "\n",
        "a) Reverse the NumPy array:\n",
        "\n",
        "> `arr = np.array([1, 2, 3, 6, 4, 5])`\n",
        "\n",
        "\n",
        "\n",
        "\n",
        "\n",
        "b) Find the most frequent value and their indice(s) in the following arrays:\n",
        "\n",
        "\n",
        ">  1. `x = np.array([1,2,3,4,5,1,2,1,1,1])`\n",
        ">  2. `y = np.array([1, 1, 1, 2, 3, 4, 2, 4, 3, 3, ])`"
      ],
      "metadata": {
        "id": "xusUdv3ON17j"
      }
    },
    {
      "cell_type": "code",
      "source": [
        "arr = np.array([1, 2, 3, 6, 4, 5])\n",
        "reversed_arr = arr[::-1]\n",
        "print(\"Reversed array:\", reversed_arr)"
      ],
      "metadata": {
        "colab": {
          "base_uri": "https://localhost:8080/"
        },
        "id": "r7rtAfavNy9u",
        "outputId": "a778b901-dcfe-4d8a-fdfd-a423ede9af90"
      },
      "execution_count": 2,
      "outputs": [
        {
          "output_type": "stream",
          "name": "stdout",
          "text": [
            "Reversed array: [5 4 6 3 2 1]\n"
          ]
        }
      ]
    },
    {
      "cell_type": "code",
      "source": [
        "# i. Most frequent value and indices in x\n",
        "x = np.array([1, 2, 3, 4, 5, 1, 2, 1, 1, 1])\n",
        "most_freq_value_x = np.bincount(x).argmax()\n",
        "indices_x = np.where(x == most_freq_value_x)\n",
        "print(\"Most frequent value in x:\", most_freq_value_x)\n",
        "print(\"Indices of the most frequent value in x:\", indices_x[0])\n",
        "\n",
        "# ii. Most frequent value and indices in y\n",
        "y = np.array([1, 1, 1, 2, 3, 4, 2, 4, 3, 3])\n",
        "most_freq_value_y = np.bincount(y).argmax()\n",
        "indices_y = np.where(y == most_freq_value_y)\n",
        "print(\"Most frequent value in y:\", most_freq_value_y)\n",
        "print(\"Indices of the most frequent value in y:\", indices_y[0])"
      ],
      "metadata": {
        "colab": {
          "base_uri": "https://localhost:8080/"
        },
        "id": "yWZhRtFuOx82",
        "outputId": "48eef4ae-c0ce-4319-bc9a-54e15c7f78a1"
      },
      "execution_count": 3,
      "outputs": [
        {
          "output_type": "stream",
          "name": "stdout",
          "text": [
            "Most frequent value in x: 1\n",
            "Indices of the most frequent value in x: [0 5 7 8 9]\n",
            "Most frequent value in y: 1\n",
            "Indices of the most frequent value in y: [0 1 2]\n"
          ]
        }
      ]
    },
    {
      "cell_type": "markdown",
      "source": [
        "Q.3 For the given 2-D array `arr=np.array([10, 20, 30], [40, 50, 60], [70, 80, 90])`, access\n",
        "elements using row and column indices as follows:\n",
        "\n",
        "a) Access 1st row, 2nd column\n",
        "\n",
        "b) Access 3rd row, 1st column"
      ],
      "metadata": {
        "id": "w6JKahEUO250"
      }
    },
    {
      "cell_type": "code",
      "source": [
        "import numpy as np\n",
        "\n",
        "# Define 2-D array\n",
        "arr = np.array([[10, 20, 30], [40, 50, 60], [70, 80, 90]])\n",
        "\n",
        "# a) Access 1st row, 2nd column (indices start  0)\n",
        "element_a = arr[0, 1]  # R 0, C 1\n",
        "print(\"Element at 1st row, 2nd column:\", element_a)\n",
        "\n",
        "# b) Access 3rd row, 1st column\n",
        "element_b = arr[2, 0]  # R 2, C 0\n",
        "print(\"Element at 3rd row, 1st column:\", element_b)"
      ],
      "metadata": {
        "colab": {
          "base_uri": "https://localhost:8080/"
        },
        "id": "1zudgm0KO2Qb",
        "outputId": "fda01f9d-c4ff-4397-f0ce-ca1e8645488c"
      },
      "execution_count": 4,
      "outputs": [
        {
          "output_type": "stream",
          "name": "stdout",
          "text": [
            "Element at 1st row, 2nd column: 20\n",
            "Element at 3rd row, 1st column: 70\n"
          ]
        }
      ]
    },
    {
      "cell_type": "markdown",
      "source": [
        "Q.4 Write program to create an 1-D NumPy array named **`<<Your Name>>`** with evenly\n",
        "spaced 25 numbers from 10 to 100 using `linspace()`. Print the dimensions of the array,\n",
        "shape, total elements, the data type of each element and total number of bytes consumed\n",
        "by the array. Find the transpose of this array using `reshape()` attribute. Can we do the same\n",
        "with T attribute?"
      ],
      "metadata": {
        "id": "3SVypGG8PBXj"
      }
    },
    {
      "cell_type": "code",
      "source": [
        "import numpy as np\n",
        "\n",
        "vishav = np.linspace(10, 100, 25)\n",
        "\n",
        "print(\"1-D Array:\\n\", vishav)\n",
        "print(\"Dimensions of the array:\", vishav.ndim)\n",
        "print(\"Shape of the array:\", vishav.shape)\n",
        "print(\"Total number of elements:\", vishav.size)\n",
        "print(\"Data type of each element:\", vishav.dtype)\n",
        "print(\"Total number of bytes consumed by the array:\", vishav.nbytes)\n",
        "\n",
        "transposed_array = vishav.reshape(25, 1)\n",
        "print(\"\\nTranspose using reshape():\\n\", transposed_array)\n",
        "\n",
        "print(\"\\nTranspose using .T:\\n\", vishav.T)\n",
        "\n",
        "print(\"\\nCan we transpose a 1-D array using .T?\")\n",
        "print(\"No, the `.T` attribute does not transpose a 1-D array because it has no second axis.\")\n",
        "print(\"However, reshaping it first (e.g., into a 2-D array) allows `.T` to work.\")"
      ],
      "metadata": {
        "colab": {
          "base_uri": "https://localhost:8080/"
        },
        "id": "qL5QGN8OPAup",
        "outputId": "290d2b0b-87a1-44c3-a1be-29139c7975ff"
      },
      "execution_count": 5,
      "outputs": [
        {
          "output_type": "stream",
          "name": "stdout",
          "text": [
            "1-D Array:\n",
            " [ 10.    13.75  17.5   21.25  25.    28.75  32.5   36.25  40.    43.75\n",
            "  47.5   51.25  55.    58.75  62.5   66.25  70.    73.75  77.5   81.25\n",
            "  85.    88.75  92.5   96.25 100.  ]\n",
            "Dimensions of the array: 1\n",
            "Shape of the array: (25,)\n",
            "Total number of elements: 25\n",
            "Data type of each element: float64\n",
            "Total number of bytes consumed by the array: 200\n",
            "\n",
            "Transpose using reshape():\n",
            " [[ 10.  ]\n",
            " [ 13.75]\n",
            " [ 17.5 ]\n",
            " [ 21.25]\n",
            " [ 25.  ]\n",
            " [ 28.75]\n",
            " [ 32.5 ]\n",
            " [ 36.25]\n",
            " [ 40.  ]\n",
            " [ 43.75]\n",
            " [ 47.5 ]\n",
            " [ 51.25]\n",
            " [ 55.  ]\n",
            " [ 58.75]\n",
            " [ 62.5 ]\n",
            " [ 66.25]\n",
            " [ 70.  ]\n",
            " [ 73.75]\n",
            " [ 77.5 ]\n",
            " [ 81.25]\n",
            " [ 85.  ]\n",
            " [ 88.75]\n",
            " [ 92.5 ]\n",
            " [ 96.25]\n",
            " [100.  ]]\n",
            "\n",
            "Transpose using .T:\n",
            " [ 10.    13.75  17.5   21.25  25.    28.75  32.5   36.25  40.    43.75\n",
            "  47.5   51.25  55.    58.75  62.5   66.25  70.    73.75  77.5   81.25\n",
            "  85.    88.75  92.5   96.25 100.  ]\n",
            "\n",
            "Can we transpose a 1-D array using .T?\n",
            "No, the `.T` attribute does not transpose a 1-D array because it has no second axis.\n",
            "However, reshaping it first (e.g., into a 2-D array) allows `.T` to work.\n"
          ]
        }
      ]
    },
    {
      "cell_type": "markdown",
      "source": [
        "Q5. Create a 2-D Array of three rows and four columns, named **`ucs420_<your_name>>`**\n",
        "with following values – 10, 20, 30, 40, 50, 60, 70, 80, 90, 15, 20, 35. Compute the mean,\n",
        "median, max, min, unique elements. Reshape the array to four rows and three columns and\n",
        "name it as **`reshaped_ ucs420_<your_name>>`**. Resize the array to two rows and three\n",
        "columns and name it as **`resized_ ucs420_<your_name>>`**."
      ],
      "metadata": {
        "id": "oSJ8E3T1cuxl"
      }
    },
    {
      "cell_type": "code",
      "source": [
        "import numpy as np\n",
        "\n",
        "\n",
        "ucs420_Vishav = np.array([[10, 20, 30, 40], [50, 60, 70, 80], [90, 15, 20, 35]])\n",
        "\n",
        "\n",
        "mean_value = np.mean(ucs420_Vishav)\n",
        "median_value = np.median(ucs420_Vishav)\n",
        "max_value = np.max(ucs420_Vishav)\n",
        "min_value = np.min(ucs420_Vishav)\n",
        "unique_elements = np.unique(ucs420_Vishav)\n",
        "\n",
        "\n",
        "print(\"Original Array (ucs420_Vishav):\\n\", ucs420_Vishav)\n",
        "print(\"Mean:\", mean_value)\n",
        "print(\"Median:\", median_value)\n",
        "print(\"Maximum:\", max_value)\n",
        "print(\"Minimum:\", min_value)\n",
        "print(\"Unique elements:\", unique_elements)\n",
        "\n",
        "\n",
        "reshaped_ucs420_Vishav = ucs420_Vishav.reshape(4, 3)\n",
        "print(\"\\nReshaped Array (4 rows x 3 columns):\\n\", reshaped_ucs420_Vishav)\n",
        "\n",
        "\n",
        "resized_ucs420_Vishav = np.resize(ucs420_Vishav, (2, 3))\n",
        "print(\"\\nResized Array (2 rows x 3 columns):\\n\", resized_ucs420_Vishav)"
      ],
      "metadata": {
        "colab": {
          "base_uri": "https://localhost:8080/"
        },
        "id": "0qUOQeyPPikf",
        "outputId": "2191217c-858e-4725-9289-b618abf47b19"
      },
      "execution_count": 6,
      "outputs": [
        {
          "output_type": "stream",
          "name": "stdout",
          "text": [
            "Original Array (ucs420_Vishav):\n",
            " [[10 20 30 40]\n",
            " [50 60 70 80]\n",
            " [90 15 20 35]]\n",
            "Mean: 43.333333333333336\n",
            "Median: 37.5\n",
            "Maximum: 90\n",
            "Minimum: 10\n",
            "Unique elements: [10 15 20 30 35 40 50 60 70 80 90]\n",
            "\n",
            "Reshaped Array (4 rows x 3 columns):\n",
            " [[10 20 30]\n",
            " [40 50 60]\n",
            " [70 80 90]\n",
            " [15 20 35]]\n",
            "\n",
            "Resized Array (2 rows x 3 columns):\n",
            " [[10 20 30]\n",
            " [40 50 60]]\n"
          ]
        }
      ]
    }
  ]
}