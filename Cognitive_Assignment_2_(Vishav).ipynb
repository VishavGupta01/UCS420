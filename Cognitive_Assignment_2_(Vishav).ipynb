{
  "nbformat": 4,
  "nbformat_minor": 0,
  "metadata": {
    "colab": {
      "provenance": []
    },
    "kernelspec": {
      "name": "python3",
      "display_name": "Python 3"
    },
    "language_info": {
      "name": "python"
    }
  },
  "cells": [
    {
      "cell_type": "markdown",
      "source": [
        "# Assingment 2.1: WAP to add three numbers and print the result."
      ],
      "metadata": {
        "id": "-ie828W-ga96"
      }
    },
    {
      "cell_type": "code",
      "execution_count": 1,
      "metadata": {
        "colab": {
          "base_uri": "https://localhost:8080/"
        },
        "id": "AYGIg9DmgZRS",
        "outputId": "5b64f4cb-6dea-43a5-ff2e-740442f6422a"
      },
      "outputs": [
        {
          "output_type": "stream",
          "name": "stdout",
          "text": [
            "Sum of three numbers is: 101\n"
          ]
        }
      ],
      "source": [
        "num1 = 14\n",
        "num2 = 32\n",
        "num3 = 55\n",
        "sum = num1 + num2 + num3\n",
        "print(\"Sum of three numbers is:\", sum)"
      ]
    },
    {
      "cell_type": "markdown",
      "source": [
        "# Assingment 2.2: WAP to concatinate three strings and print the result."
      ],
      "metadata": {
        "id": "JqgocGw-glqD"
      }
    },
    {
      "cell_type": "code",
      "source": [
        "str1 = \"Hello\"\n",
        "str2 = \"World\"\n",
        "str3= \"!!??\"\n",
        "result = str1 + str2 + str3\n",
        "print(\"Concatenated string is:\", result)"
      ],
      "metadata": {
        "colab": {
          "base_uri": "https://localhost:8080/"
        },
        "id": "k_L6sT1MgpfP",
        "outputId": "8ba21fdb-f15c-43ff-92a9-804eb5c8eda4"
      },
      "execution_count": 2,
      "outputs": [
        {
          "output_type": "stream",
          "name": "stdout",
          "text": [
            "Concatenated string is: HelloWorld!!??\n"
          ]
        }
      ]
    }
  ]
}