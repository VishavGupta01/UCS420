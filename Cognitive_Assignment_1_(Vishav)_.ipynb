{
  "nbformat": 4,
  "nbformat_minor": 0,
  "metadata": {
    "colab": {
      "provenance": []
    },
    "kernelspec": {
      "name": "python3",
      "display_name": "Python 3"
    },
    "language_info": {
      "name": "python"
    }
  },
  "cells": [
    {
      "cell_type": "markdown",
      "source": [
        "# Assignment 1.1 WAP to print your name three times"
      ],
      "metadata": {
        "id": "KtwoTUZUfaId"
      }
    },
    {
      "cell_type": "code",
      "execution_count": 1,
      "metadata": {
        "colab": {
          "base_uri": "https://localhost:8080/"
        },
        "id": "ySIw7yYDfUc6",
        "outputId": "1e6b222b-364b-4887-cfda-c6a9590408a2"
      },
      "outputs": [
        {
          "output_type": "stream",
          "name": "stdout",
          "text": [
            "Vishav Gupta\n",
            "Vishav Gupta\n",
            "Vishav Gupta\n"
          ]
        }
      ],
      "source": [
        "name = \"Vishav Gupta\"\n",
        "for i in range(3):\n",
        "    print(name)"
      ]
    }
  ]
}