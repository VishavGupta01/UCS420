{
  "nbformat": 4,
  "nbformat_minor": 0,
  "metadata": {
    "colab": {
      "provenance": []
    },
    "kernelspec": {
      "name": "python3",
      "display_name": "Python 3"
    },
    "language_info": {
      "name": "python"
    }
  },
  "cells": [
    {
      "cell_type": "markdown",
      "source": [
        "# Lab Assignment 10 - Submitted By : Vishav Gupta [102497018]"
      ],
      "metadata": {
        "id": "ASvfjqkY7YYT"
      }
    },
    {
      "cell_type": "markdown",
      "source": [
        "Q1. Write a unique paragraph (5-6 sentences) about your favorite topic (e.g., sports,\n",
        "technology, food, books, etc.).\n"
      ],
      "metadata": {
        "id": "539K6vKW7g_J"
      }
    },
    {
      "cell_type": "markdown",
      "source": [
        "1. Convert text to lowercase and remove punctuation using re.\n"
      ],
      "metadata": {
        "id": "nC_Btpjv7omR"
      }
    },
    {
      "cell_type": "code",
      "execution_count": 4,
      "metadata": {
        "colab": {
          "base_uri": "https://localhost:8080/"
        },
        "id": "5LOtljuj7M6g",
        "outputId": "a6e17c2d-1e8c-41d3-bd5b-befba2ce6fea"
      },
      "outputs": [
        {
          "output_type": "stream",
          "name": "stdout",
          "text": [
            "books are gateways to other worlds providing readers with new perspectives and experiences whether its a gripping mystery an inspiring biography or an imaginative fantasy books have the power to transport us they not only entertain but also educate and challenge our thinking in a world of constant distractions reading offers a quiet refuge and an opportunity to engage deeply with ideas the joy of losing oneself in a good book is a timeless pleasure that transcends generations\n"
          ]
        }
      ],
      "source": [
        "import re\n",
        "\n",
        "text = \"\"\"Books are gateways to other worlds, providing readers with new perspectives and experiences. Whether it's a gripping mystery, an inspiring biography, or an imaginative fantasy, books have the power to transport us. They not only entertain but also educate and challenge our thinking. In a world of constant distractions, reading offers a quiet refuge and an opportunity to engage deeply with ideas. The joy of losing oneself in a good book is a timeless pleasure that transcends generations.\"\"\"\n",
        "\n",
        "text_lower = text.lower()\n",
        "text_clean = re.sub(r'[^\\w\\s]', '', text_lower)\n",
        "\n",
        "print(text_clean)"
      ]
    },
    {
      "cell_type": "markdown",
      "source": [
        "2. Tokenize the text into words and sentences.\n"
      ],
      "metadata": {
        "id": "Ou2x3UyX7qHZ"
      }
    },
    {
      "cell_type": "code",
      "source": [
        "import nltk\n",
        "nltk.download('punkt_tab')\n",
        "\n",
        "word_tokens = nltk.word_tokenize(text_clean)\n",
        "sentence_tokens = nltk.sent_tokenize(text_clean)\n",
        "\n",
        "print(\"Word Tokens:\", word_tokens[:10])\n",
        "print(\"Sentence Tokens:\", sentence_tokens[:3])"
      ],
      "metadata": {
        "colab": {
          "base_uri": "https://localhost:8080/"
        },
        "id": "oYqYDepy7q7R",
        "outputId": "efd0c450-e49f-400b-d3b0-e05f3c6a44a2"
      },
      "execution_count": 5,
      "outputs": [
        {
          "output_type": "stream",
          "name": "stdout",
          "text": [
            "Word Tokens: ['books', 'are', 'gateways', 'to', 'other', 'worlds', 'providing', 'readers', 'with', 'new']\n",
            "Sentence Tokens: ['books are gateways to other worlds providing readers with new perspectives and experiences whether its a gripping mystery an inspiring biography or an imaginative fantasy books have the power to transport us they not only entertain but also educate and challenge our thinking in a world of constant distractions reading offers a quiet refuge and an opportunity to engage deeply with ideas the joy of losing oneself in a good book is a timeless pleasure that transcends generations']\n"
          ]
        },
        {
          "output_type": "stream",
          "name": "stderr",
          "text": [
            "[nltk_data] Downloading package punkt_tab to /root/nltk_data...\n",
            "[nltk_data]   Package punkt_tab is already up-to-date!\n"
          ]
        }
      ]
    },
    {
      "cell_type": "markdown",
      "source": [
        "3. Split using split() and word_tokenize() and compare how Python split and NLTK’s\n",
        "word_tokenize() differ.\n"
      ],
      "metadata": {
        "id": "rQHpkFpY7saJ"
      }
    },
    {
      "cell_type": "code",
      "source": [
        "split_text = text_clean.split()\n",
        "\n",
        "word_tokens_nltk = nltk.word_tokenize(text_clean)\n",
        "\n",
        "print(\"Tokens using split():\", split_text[:10])\n",
        "print(\"Tokens using word_tokenize():\", word_tokens_nltk[:10])"
      ],
      "metadata": {
        "colab": {
          "base_uri": "https://localhost:8080/"
        },
        "id": "wWXze81x7t2Z",
        "outputId": "9c7b3240-c19e-450c-e4c5-ddc52ae3dce7"
      },
      "execution_count": 6,
      "outputs": [
        {
          "output_type": "stream",
          "name": "stdout",
          "text": [
            "Tokens using split(): ['books', 'are', 'gateways', 'to', 'other', 'worlds', 'providing', 'readers', 'with', 'new']\n",
            "Tokens using word_tokenize(): ['books', 'are', 'gateways', 'to', 'other', 'worlds', 'providing', 'readers', 'with', 'new']\n"
          ]
        }
      ]
    },
    {
      "cell_type": "markdown",
      "source": [
        "4. Remove stopwords (using NLTK's stopwords list).\n"
      ],
      "metadata": {
        "id": "-Sxuuz1B7uUJ"
      }
    },
    {
      "cell_type": "code",
      "source": [
        "from nltk.corpus import stopwords\n",
        "\n",
        "nltk.download('stopwords')\n",
        "\n",
        "stop_words = set(stopwords.words('english'))\n",
        "\n",
        "filtered_words = [word for word in word_tokens_nltk if word.lower() not in stop_words]\n",
        "\n",
        "print(\"Filtered Words:\", filtered_words[:10])"
      ],
      "metadata": {
        "colab": {
          "base_uri": "https://localhost:8080/"
        },
        "id": "MgzcG1HD7vXg",
        "outputId": "8138e860-bd94-4458-eda8-6641a2001f4e"
      },
      "execution_count": 7,
      "outputs": [
        {
          "output_type": "stream",
          "name": "stdout",
          "text": [
            "Filtered Words: ['books', 'gateways', 'worlds', 'providing', 'readers', 'new', 'perspectives', 'experiences', 'whether', 'gripping']\n"
          ]
        },
        {
          "output_type": "stream",
          "name": "stderr",
          "text": [
            "[nltk_data] Downloading package stopwords to /root/nltk_data...\n",
            "[nltk_data]   Unzipping corpora/stopwords.zip.\n"
          ]
        }
      ]
    },
    {
      "cell_type": "markdown",
      "source": [
        "5. Display word frequency distribution (excluding stopwords)."
      ],
      "metadata": {
        "id": "8KSfdi8u7vmh"
      }
    },
    {
      "cell_type": "code",
      "source": [
        "from nltk import FreqDist\n",
        "\n",
        "fdist = FreqDist(filtered_words)\n",
        "\n",
        "print(fdist.most_common(10))"
      ],
      "metadata": {
        "colab": {
          "base_uri": "https://localhost:8080/"
        },
        "id": "c9_7YSN97wKg",
        "outputId": "8e008c30-8417-4b2e-82bf-b68489c4c067"
      },
      "execution_count": 8,
      "outputs": [
        {
          "output_type": "stream",
          "name": "stdout",
          "text": [
            "[('books', 2), ('gateways', 1), ('worlds', 1), ('providing', 1), ('readers', 1), ('new', 1), ('perspectives', 1), ('experiences', 1), ('whether', 1), ('gripping', 1)]\n"
          ]
        }
      ]
    },
    {
      "cell_type": "markdown",
      "source": [
        "**Q2. Using the same paragraph from Q1:**"
      ],
      "metadata": {
        "id": "eALVIr0u85Ph"
      }
    },
    {
      "cell_type": "markdown",
      "source": [
        "1. Extract all words with only alphabets using re.findall()\n"
      ],
      "metadata": {
        "id": "HxyZVXb688e5"
      }
    },
    {
      "cell_type": "code",
      "source": [
        "import re\n",
        "\n",
        "words_only_alpha = re.findall(r'\\b[a-zA-Z]+\\b', text.lower())\n",
        "\n",
        "print(\"Words with only alphabets:\", words_only_alpha[:10])"
      ],
      "metadata": {
        "colab": {
          "base_uri": "https://localhost:8080/"
        },
        "id": "zK7AavpO8_Ih",
        "outputId": "8dcb66c0-e6b1-4aa4-8250-2aee2fc7aca7"
      },
      "execution_count": 9,
      "outputs": [
        {
          "output_type": "stream",
          "name": "stdout",
          "text": [
            "Words with only alphabets: ['books', 'are', 'gateways', 'to', 'other', 'worlds', 'providing', 'readers', 'with', 'new']\n"
          ]
        }
      ]
    },
    {
      "cell_type": "markdown",
      "source": [
        "2. Remove stop words using NLTK’s stopword list\n"
      ],
      "metadata": {
        "id": "61m8Vumd8_Y5"
      }
    },
    {
      "cell_type": "code",
      "source": [
        "from nltk.corpus import stopwords\n",
        "\n",
        "nltk.download('stopwords')\n",
        "\n",
        "stop_words = set(stopwords.words('english'))\n",
        "\n",
        "filtered_alpha_words = [word for word in words_only_alpha if word not in stop_words]\n",
        "\n",
        "print(\"Filtered words without stopwords:\", filtered_alpha_words[:10])"
      ],
      "metadata": {
        "colab": {
          "base_uri": "https://localhost:8080/"
        },
        "id": "t6QQYjV69Ayo",
        "outputId": "ce44a4dc-49de-42e9-c728-aacb6899ddb8"
      },
      "execution_count": 10,
      "outputs": [
        {
          "output_type": "stream",
          "name": "stdout",
          "text": [
            "Filtered words without stopwords: ['books', 'gateways', 'worlds', 'providing', 'readers', 'new', 'perspectives', 'experiences', 'whether', 'gripping']\n"
          ]
        },
        {
          "output_type": "stream",
          "name": "stderr",
          "text": [
            "[nltk_data] Downloading package stopwords to /root/nltk_data...\n",
            "[nltk_data]   Package stopwords is already up-to-date!\n"
          ]
        }
      ]
    },
    {
      "cell_type": "markdown",
      "source": [
        "3. Perform stemming with PorterStemmer\n"
      ],
      "metadata": {
        "id": "K9TMfmmf9BKg"
      }
    },
    {
      "cell_type": "code",
      "source": [
        "from nltk.stem import PorterStemmer\n",
        "\n",
        "stemmer = PorterStemmer()\n",
        "\n",
        "stemmed_words = [stemmer.stem(word) for word in filtered_alpha_words]\n",
        "\n",
        "print(\"Stemmed words:\", stemmed_words[:10])"
      ],
      "metadata": {
        "colab": {
          "base_uri": "https://localhost:8080/"
        },
        "id": "_QcQIyw_9Cvw",
        "outputId": "aafb5006-16f1-4869-c64b-f580a8ada4d8"
      },
      "execution_count": 11,
      "outputs": [
        {
          "output_type": "stream",
          "name": "stdout",
          "text": [
            "Stemmed words: ['book', 'gateway', 'world', 'provid', 'reader', 'new', 'perspect', 'experi', 'whether', 'grip']\n"
          ]
        }
      ]
    },
    {
      "cell_type": "markdown",
      "source": [
        "4. Perform lemmatization with WordNetLemmaƟzer\n"
      ],
      "metadata": {
        "id": "lD-pN_lf9C-I"
      }
    },
    {
      "cell_type": "code",
      "source": [
        "from nltk.stem import WordNetLemmatizer\n",
        "\n",
        "nltk.download('wordnet')\n",
        "\n",
        "lemmatizer = WordNetLemmatizer()\n",
        "\n",
        "lemmatized_words = [lemmatizer.lemmatize(word) for word in filtered_alpha_words]\n",
        "\n",
        "print(\"Lemmatized words:\", lemmatized_words[:10])"
      ],
      "metadata": {
        "colab": {
          "base_uri": "https://localhost:8080/"
        },
        "id": "VDsD8w4J9D_Y",
        "outputId": "69e04bfb-d1b9-4856-c7a4-a114d683bc00"
      },
      "execution_count": 12,
      "outputs": [
        {
          "output_type": "stream",
          "name": "stderr",
          "text": [
            "[nltk_data] Downloading package wordnet to /root/nltk_data...\n"
          ]
        },
        {
          "output_type": "stream",
          "name": "stdout",
          "text": [
            "Lemmatized words: ['book', 'gateway', 'world', 'providing', 'reader', 'new', 'perspective', 'experience', 'whether', 'gripping']\n"
          ]
        }
      ]
    },
    {
      "cell_type": "markdown",
      "source": [
        "5. Compare the stemmed and lemmatized outputs and explain when you’d prefer one over\n",
        "the other."
      ],
      "metadata": {
        "id": "53gVFyzF9EeQ"
      }
    },
    {
      "cell_type": "code",
      "source": [
        "for stem, lemma in zip(stemmed_words[:10], lemmatized_words[:10]):\n",
        "    print(f\"Stemmed: {stem}, Lemmatized: {lemma}\")"
      ],
      "metadata": {
        "colab": {
          "base_uri": "https://localhost:8080/"
        },
        "id": "R0wso4ib9E9w",
        "outputId": "8e51c35d-66a7-4749-ba98-a2bdcd45297d"
      },
      "execution_count": 13,
      "outputs": [
        {
          "output_type": "stream",
          "name": "stdout",
          "text": [
            "Stemmed: book, Lemmatized: book\n",
            "Stemmed: gateway, Lemmatized: gateway\n",
            "Stemmed: world, Lemmatized: world\n",
            "Stemmed: provid, Lemmatized: providing\n",
            "Stemmed: reader, Lemmatized: reader\n",
            "Stemmed: new, Lemmatized: new\n",
            "Stemmed: perspect, Lemmatized: perspective\n",
            "Stemmed: experi, Lemmatized: experience\n",
            "Stemmed: whether, Lemmatized: whether\n",
            "Stemmed: grip, Lemmatized: gripping\n"
          ]
        }
      ]
    },
    {
      "cell_type": "markdown",
      "source": [
        "**Q3. Choose 3 short texts of your own (e.g., different news headlines, product reviews).**\n"
      ],
      "metadata": {
        "id": "ynA-Ngjw9dJY"
      }
    },
    {
      "cell_type": "code",
      "source": [
        "texts = [\n",
        "    \"The economy is showing signs of recovery after the pandemic.\",\n",
        "    \"The new smartphone features an upgraded camera and a faster processor.\",\n",
        "    \"The football team celebrated their victory with a huge parade.\"\n",
        "]"
      ],
      "metadata": {
        "id": "xTGK06uI9pFP"
      },
      "execution_count": 14,
      "outputs": []
    },
    {
      "cell_type": "markdown",
      "source": [
        "1. Use CountVectorizer to generate the Bag of Words representation.\n"
      ],
      "metadata": {
        "id": "KA1cM4699hMI"
      }
    },
    {
      "cell_type": "code",
      "source": [
        "from sklearn.feature_extraction.text import CountVectorizer\n",
        "\n",
        "count_vectorizer = CountVectorizer()\n",
        "\n",
        "bag_of_words = count_vectorizer.fit_transform(texts)\n",
        "\n",
        "words = count_vectorizer.get_feature_names_out()\n",
        "\n",
        "bag_of_words_array = bag_of_words.toarray()\n",
        "\n",
        "print(\"Bag of Words Representation (CountVectorizer):\")\n",
        "print(bag_of_words_array)\n",
        "print(\"Words (features):\", words)"
      ],
      "metadata": {
        "colab": {
          "base_uri": "https://localhost:8080/"
        },
        "id": "-T7tgxMi9iep",
        "outputId": "dcadd234-1fc2-46bd-dda8-e7277c7e5ea1"
      },
      "execution_count": 15,
      "outputs": [
        {
          "output_type": "stream",
          "name": "stdout",
          "text": [
            "Bag of Words Representation (CountVectorizer):\n",
            "[[1 0 0 0 0 1 0 0 0 0 1 0 1 1 0 0 1 1 1 0 0 2 0 0 0 0]\n",
            " [0 1 1 1 0 0 1 1 0 0 0 1 0 0 0 1 0 0 0 1 0 1 0 1 0 0]\n",
            " [0 0 0 0 1 0 0 0 1 1 0 0 0 0 1 0 0 0 0 0 1 1 1 0 1 1]]\n",
            "Words (features): ['after' 'an' 'and' 'camera' 'celebrated' 'economy' 'faster' 'features'\n",
            " 'football' 'huge' 'is' 'new' 'of' 'pandemic' 'parade' 'processor'\n",
            " 'recovery' 'showing' 'signs' 'smartphone' 'team' 'the' 'their' 'upgraded'\n",
            " 'victory' 'with']\n"
          ]
        }
      ]
    },
    {
      "cell_type": "markdown",
      "source": [
        "2. Use TfidfVectorizer to compute TF-IDF scores.\n"
      ],
      "metadata": {
        "id": "HG_BAOMf9izg"
      }
    },
    {
      "cell_type": "code",
      "source": [
        "from sklearn.feature_extraction.text import TfidfVectorizer\n",
        "\n",
        "tfidf_vectorizer = TfidfVectorizer()\n",
        "\n",
        "tfidf_matrix = tfidf_vectorizer.fit_transform(texts)\n",
        "\n",
        "tfidf_words = tfidf_vectorizer.get_feature_names_out()\n",
        "\n",
        "tfidf_array = tfidf_matrix.toarray()\n",
        "\n",
        "print(\"\\nTF-IDF Scores (TfidfVectorizer):\")\n",
        "print(tfidf_array)\n",
        "print(\"Words (features):\", tfidf_words)"
      ],
      "metadata": {
        "colab": {
          "base_uri": "https://localhost:8080/"
        },
        "id": "nOVYICbU9kKn",
        "outputId": "2b127502-285f-4378-c901-0459c63a00f7"
      },
      "execution_count": 16,
      "outputs": [
        {
          "output_type": "stream",
          "name": "stdout",
          "text": [
            "\n",
            "TF-IDF Scores (TfidfVectorizer):\n",
            "[[0.32624544 0.         0.         0.         0.         0.32624544\n",
            "  0.         0.         0.         0.         0.32624544 0.\n",
            "  0.32624544 0.32624544 0.         0.         0.32624544 0.32624544\n",
            "  0.32624544 0.         0.         0.38537163 0.         0.\n",
            "  0.         0.        ]\n",
            " [0.         0.32705548 0.32705548 0.32705548 0.         0.\n",
            "  0.32705548 0.32705548 0.         0.         0.         0.32705548\n",
            "  0.         0.         0.         0.32705548 0.         0.\n",
            "  0.         0.32705548 0.         0.19316423 0.         0.32705548\n",
            "  0.         0.        ]\n",
            " [0.         0.         0.         0.         0.34608857 0.\n",
            "  0.         0.         0.34608857 0.34608857 0.         0.\n",
            "  0.         0.         0.34608857 0.         0.         0.\n",
            "  0.         0.         0.34608857 0.20440549 0.34608857 0.\n",
            "  0.34608857 0.34608857]]\n",
            "Words (features): ['after' 'an' 'and' 'camera' 'celebrated' 'economy' 'faster' 'features'\n",
            " 'football' 'huge' 'is' 'new' 'of' 'pandemic' 'parade' 'processor'\n",
            " 'recovery' 'showing' 'signs' 'smartphone' 'team' 'the' 'their' 'upgraded'\n",
            " 'victory' 'with']\n"
          ]
        }
      ]
    },
    {
      "cell_type": "markdown",
      "source": [
        "3. Print and interpret the top 3 keywords from each text using TF-IDF."
      ],
      "metadata": {
        "id": "3ylaO-HW9kc4"
      }
    },
    {
      "cell_type": "code",
      "source": [
        "import numpy as np\n",
        "\n",
        "print(\"\\nTop 3 Keywords Using TF-IDF:\")\n",
        "\n",
        "for i, text in enumerate(texts):\n",
        "    tfidf_scores = tfidf_array[i]\n",
        "\n",
        "    top_3_indices = np.argsort(tfidf_scores)[::-1][:3]\n",
        "\n",
        "    top_3_keywords = [tfidf_words[index] for index in top_3_indices]\n",
        "\n",
        "    print(f\"Text {i+1}: '{text}'\")\n",
        "    print(\"Top 3 Keywords:\", top_3_keywords)\n",
        "    print()"
      ],
      "metadata": {
        "colab": {
          "base_uri": "https://localhost:8080/"
        },
        "id": "yFnyHSMX9k_I",
        "outputId": "9c77450a-953b-4fb0-e752-5ead3dc304ff"
      },
      "execution_count": 17,
      "outputs": [
        {
          "output_type": "stream",
          "name": "stdout",
          "text": [
            "\n",
            "Top 3 Keywords Using TF-IDF:\n",
            "Text 1: 'The economy is showing signs of recovery after the pandemic.'\n",
            "Top 3 Keywords: ['the', 'recovery', 'showing']\n",
            "\n",
            "Text 2: 'The new smartphone features an upgraded camera and a faster processor.'\n",
            "Top 3 Keywords: ['smartphone', 'upgraded', 'an']\n",
            "\n",
            "Text 3: 'The football team celebrated their victory with a huge parade.'\n",
            "Top 3 Keywords: ['with', 'victory', 'their']\n",
            "\n"
          ]
        }
      ]
    },
    {
      "cell_type": "markdown",
      "source": [
        "**Q4. Write 2 short texts (4–6 lines each) describing two different technologies (e.g., AI vs\n",
        "Blockchain).**"
      ],
      "metadata": {
        "id": "1ZP--4QZ97OA"
      }
    },
    {
      "cell_type": "code",
      "source": [
        "text1 = \"\"\"Artificial Intelligence (AI) involves the simulation of human intelligence in machines that are programmed to think and learn. AI is transforming industries such as healthcare, finance, and transportation, enabling automation and data analysis on a massive scale. Machine learning, a subset of AI, allows computers to improve from experience without being explicitly programmed.\"\"\"\n",
        "\n",
        "text2 = \"\"\"Blockchain is a decentralized digital ledger technology that records transactions across multiple computers. It ensures transparency, security, and immutability of data. Blockchain is most commonly associated with cryptocurrencies like Bitcoin, but its applications are expanding to sectors like supply chain, finance, and healthcare.\"\"\""
      ],
      "metadata": {
        "id": "95eTy9oM9_HC"
      },
      "execution_count": 18,
      "outputs": []
    },
    {
      "cell_type": "markdown",
      "source": [
        "1. Preprocess and tokenize both texts.\n"
      ],
      "metadata": {
        "id": "x-TLttIH-BnQ"
      }
    },
    {
      "cell_type": "code",
      "source": [
        "import nltk\n",
        "import re\n",
        "from nltk.tokenize import word_tokenize\n",
        "\n",
        "nltk.download('punkt_tab')\n",
        "\n",
        "def preprocess_and_tokenize(text):\n",
        "    text_clean = re.sub(r'[^\\w\\s]', '', text.lower())\n",
        "    tokens = word_tokenize(text_clean)\n",
        "    return tokens\n",
        "\n",
        "tokens_text1 = preprocess_and_tokenize(text1)\n",
        "tokens_text2 = preprocess_and_tokenize(text2)\n",
        "\n",
        "print(\"Tokens for Text 1:\", tokens_text1)\n",
        "print(\"Tokens for Text 2:\", tokens_text2)"
      ],
      "metadata": {
        "colab": {
          "base_uri": "https://localhost:8080/"
        },
        "id": "6UAO4Jfb-DHo",
        "outputId": "e0ff28f0-3162-48f0-9548-5966503a99a0"
      },
      "execution_count": 19,
      "outputs": [
        {
          "output_type": "stream",
          "name": "stdout",
          "text": [
            "Tokens for Text 1: ['artificial', 'intelligence', 'ai', 'involves', 'the', 'simulation', 'of', 'human', 'intelligence', 'in', 'machines', 'that', 'are', 'programmed', 'to', 'think', 'and', 'learn', 'ai', 'is', 'transforming', 'industries', 'such', 'as', 'healthcare', 'finance', 'and', 'transportation', 'enabling', 'automation', 'and', 'data', 'analysis', 'on', 'a', 'massive', 'scale', 'machine', 'learning', 'a', 'subset', 'of', 'ai', 'allows', 'computers', 'to', 'improve', 'from', 'experience', 'without', 'being', 'explicitly', 'programmed']\n",
            "Tokens for Text 2: ['blockchain', 'is', 'a', 'decentralized', 'digital', 'ledger', 'technology', 'that', 'records', 'transactions', 'across', 'multiple', 'computers', 'it', 'ensures', 'transparency', 'security', 'and', 'immutability', 'of', 'data', 'blockchain', 'is', 'most', 'commonly', 'associated', 'with', 'cryptocurrencies', 'like', 'bitcoin', 'but', 'its', 'applications', 'are', 'expanding', 'to', 'sectors', 'like', 'supply', 'chain', 'finance', 'and', 'healthcare']\n"
          ]
        },
        {
          "output_type": "stream",
          "name": "stderr",
          "text": [
            "[nltk_data] Downloading package punkt_tab to /root/nltk_data...\n",
            "[nltk_data]   Package punkt_tab is already up-to-date!\n"
          ]
        }
      ]
    },
    {
      "cell_type": "markdown",
      "source": [
        "2. Calculate:\n",
        "- Jaccard Similarity using sets\n",
        "- Cosine Similarity using TfidfVectorizer + cosine_similarity()\n",
        "- Analyze which similarity metric gives better insights in your case."
      ],
      "metadata": {
        "id": "0YZtQDPj-DVf"
      }
    },
    {
      "cell_type": "code",
      "source": [
        "# a. Jaccard Similarity using sets\n",
        "set_text1 = set(tokens_text1)\n",
        "set_text2 = set(tokens_text2)\n",
        "\n",
        "intersection = len(set_text1.intersection(set_text2))\n",
        "union = len(set_text1.union(set_text2))\n",
        "jaccard_similarity = intersection / union\n",
        "\n",
        "print(f\"Jaccard Similarity: {jaccard_similarity}\")"
      ],
      "metadata": {
        "colab": {
          "base_uri": "https://localhost:8080/"
        },
        "id": "uoTL6kuQ-HsI",
        "outputId": "ef0495ce-376f-4809-858e-bce2a00bec8b"
      },
      "execution_count": 20,
      "outputs": [
        {
          "output_type": "stream",
          "name": "stdout",
          "text": [
            "Jaccard Similarity: 0.1527777777777778\n"
          ]
        }
      ]
    },
    {
      "cell_type": "code",
      "source": [
        "# b. Cosine Similarity using TfidfVectorizer + cosine_similarity()\n",
        "from sklearn.feature_extraction.text import TfidfVectorizer\n",
        "from sklearn.metrics.pairwise import cosine_similarity\n",
        "\n",
        "tfidf_vectorizer = TfidfVectorizer()\n",
        "\n",
        "tfidf_matrix = tfidf_vectorizer.fit_transform([text1, text2])\n",
        "\n",
        "cosine_sim = cosine_similarity(tfidf_matrix[0], tfidf_matrix[1])\n",
        "\n",
        "print(f\"Cosine Similarity: {cosine_sim[0][0]}\")"
      ],
      "metadata": {
        "colab": {
          "base_uri": "https://localhost:8080/"
        },
        "id": "Z-jyrPt6-env",
        "outputId": "b0b1cb37-0df7-4761-edf0-a7ede3ab55b6"
      },
      "execution_count": 21,
      "outputs": [
        {
          "output_type": "stream",
          "name": "stdout",
          "text": [
            "Cosine Similarity: 0.18260597124588573\n"
          ]
        }
      ]
    },
    {
      "cell_type": "code",
      "source": [
        "# c. Analyze which similarity metric gives beƩer insights in your case.\n",
        "import matplotlib.pyplot as plt\n",
        "\n",
        "similarity_scores = [jaccard_similarity, cosine_sim[0][0]]\n",
        "labels = ['Jaccard Similarity', 'Cosine Similarity']\n",
        "\n",
        "plt.bar(labels, similarity_scores, color=['blue', 'green'])\n",
        "plt.title(\"Comparison of Similarity Metrics (AI vs Blockchain)\")\n",
        "plt.ylabel(\"Similarity Score\")\n",
        "plt.ylim(0, 1)\n",
        "plt.show()\n",
        "\n",
        "print(f\"Jaccard Similarity: {jaccard_similarity}\")\n",
        "print(f\"Cosine Similarity: {cosine_sim[0][0]}\")"
      ],
      "metadata": {
        "colab": {
          "base_uri": "https://localhost:8080/",
          "height": 487
        },
        "id": "DQiBUVwt-nMR",
        "outputId": "57319143-7d9d-45f7-ec40-0ac5ef583730"
      },
      "execution_count": 25,
      "outputs": [
        {
          "output_type": "display_data",
          "data": {
            "text/plain": [
              "<Figure size 640x480 with 1 Axes>"
            ],
            "image/png": "[encoded data removed]"
          },
          "metadata": {}
        },
        {
          "output_type": "stream",
          "name": "stdout",
          "text": [
            "Jaccard Similarity: 0.1527777777777778\n",
            "Cosine Similarity: 0.18260597124588573\n"
          ]
        }
      ]
    },
    {
      "cell_type": "markdown",
      "source": [
        "**Q5. Write a short review for a product or service.**"
      ],
      "metadata": {
        "id": "VrCRF2a5_pzn"
      }
    },
    {
      "cell_type": "code",
      "source": [
        "review1 = \"\"\"I recently bought a new smartphone, and it's amazing! The camera quality is exceptional, and the battery life lasts for more than a day with heavy use. The design is sleek and modern, and the overall performance is smooth. I highly recommend this phone to anyone looking for a reliable device.\"\"\"\n",
        "review2 = \"\"\"The service at this restaurant was terrible. The food took over an hour to arrive, and when it did, it was cold. The staff seemed uninterested in helping, and the atmosphere was uncomfortable. I won’t be coming back anytime soon.\"\"\"\n",
        "review3 = \"\"\"I’ve tried this skincare cream for a week, and I feel it has a positive effect on my skin. It’s very moisturizing and gentle. The fragrance is subtle, and my skin feels much smoother. Overall, I’m satisfied with the product.\"\"\"\n",
        "reviews = [review1, review2, review3]"
      ],
      "metadata": {
        "id": "8P7LSWIVABh-"
      },
      "execution_count": 26,
      "outputs": []
    },
    {
      "cell_type": "markdown",
      "source": [
        "1. Use TextBlob or VADER to find polarity & subjectivity for each review.\n"
      ],
      "metadata": {
        "id": "L55VsLYM_tAf"
      }
    },
    {
      "cell_type": "code",
      "source": [
        "from textblob import TextBlob\n",
        "\n",
        "def analyze_sentiment_textblob(review):\n",
        "    blob = TextBlob(review)\n",
        "    return blob.sentiment.polarity, blob.sentiment.subjectivity\n",
        "\n",
        "for review in reviews:\n",
        "    polarity, subjectivity = analyze_sentiment_textblob(review)\n",
        "    print(f\"Review: {review[:50]}... -> Polarity: {polarity}, Subjectivity: {subjectivity}\")"
      ],
      "metadata": {
        "colab": {
          "base_uri": "https://localhost:8080/"
        },
        "id": "uEbO_XDs_vvn",
        "outputId": "cfb4c596-7592-4ab3-ed91-2955d9cba5d2"
      },
      "execution_count": 27,
      "outputs": [
        {
          "output_type": "stream",
          "name": "stdout",
          "text": [
            "Review: I recently bought a new smartphone, and it's amazi... -> Polarity: 0.2613030303030303, Subjectivity: 0.4944545454545454\n",
            "Review: The service at this restaurant was terrible. The f... -> Polarity: -0.525, Subjectivity: 0.75\n",
            "Review: I’ve tried this skincare cream for a week, and I f... -> Polarity: 0.14199134199134197, Subjectivity: 0.47792207792207797\n"
          ]
        }
      ]
    },
    {
      "cell_type": "markdown",
      "source": [
        "2. Classify reviews into Positive / Negative / Neutral.\n"
      ],
      "metadata": {
        "id": "qtQIZhE9_v73"
      }
    },
    {
      "cell_type": "code",
      "source": [
        "!pip install vaderSentiment"
      ],
      "metadata": {
        "colab": {
          "base_uri": "https://localhost:8080/"
        },
        "id": "4HQk0FKVAXo-",
        "outputId": "fbdded61-befd-487a-cf32-68f83d782a24"
      },
      "execution_count": 31,
      "outputs": [
        {
          "output_type": "stream",
          "name": "stdout",
          "text": [
            "Collecting vaderSentiment\n",
            "  Downloading vaderSentiment-3.3.2-py2.py3-none-any.whl.metadata (572 bytes)\n",
            "Requirement already satisfied: requests in /usr/local/lib/python3.11/dist-packages (from vaderSentiment) (2.32.3)\n",
            "Requirement already satisfied: charset-normalizer<4,>=2 in /usr/local/lib/python3.11/dist-packages (from requests->vaderSentiment) (3.4.1)\n",
            "Requirement already satisfied: idna<4,>=2.5 in /usr/local/lib/python3.11/dist-packages (from requests->vaderSentiment) (3.10)\n",
            "Requirement already satisfied: urllib3<3,>=1.21.1 in /usr/local/lib/python3.11/dist-packages (from requests->vaderSentiment) (2.3.0)\n",
            "Requirement already satisfied: certifi>=2017.4.17 in /usr/local/lib/python3.11/dist-packages (from requests->vaderSentiment) (2025.1.31)\n",
            "Downloading vaderSentiment-3.3.2-py2.py3-none-any.whl (125 kB)\n",
            "\u001b[?25l   \u001b[90m━━━━━━━━━━━━━━━━━━━━━━━━━━━━━━━━━━━━━━━━\u001b[0m \u001b[32m0.0/126.0 kB\u001b[0m \u001b[31m?\u001b[0m eta \u001b[36m-:--:--\u001b[0m\r\u001b[2K   \u001b[91m━━━━━━━━━━━━━━━━━━━━━━━━━━━━━━━━━━━━━━━\u001b[0m\u001b[90m╺\u001b[0m \u001b[32m122.9/126.0 kB\u001b[0m \u001b[31m3.5 MB/s\u001b[0m eta \u001b[36m0:00:01\u001b[0m\r\u001b[2K   \u001b[90m━━━━━━━━━━━━━━━━━━━━━━━━━━━━━━━━━━━━━━━━\u001b[0m \u001b[32m126.0/126.0 kB\u001b[0m \u001b[31m2.6 MB/s\u001b[0m eta \u001b[36m0:00:00\u001b[0m\n",
            "\u001b[?25hInstalling collected packages: vaderSentiment\n",
            "Successfully installed vaderSentiment-3.3.2\n"
          ]
        }
      ]
    },
    {
      "cell_type": "code",
      "source": [
        "from vaderSentiment.vaderSentiment import SentimentIntensityAnalyzer\n",
        "\n",
        "def analyze_sentiment_vader(review):\n",
        "    analyzer = SentimentIntensityAnalyzer()\n",
        "    sentiment = analyzer.polarity_scores(review)\n",
        "    return sentiment['compound']\n",
        "\n",
        "for review in reviews:\n",
        "    compound_score = analyze_sentiment_vader(review)\n",
        "    print(f\"Review: {review[:50]}... -> Compound Score: {compound_score}\")"
      ],
      "metadata": {
        "colab": {
          "base_uri": "https://localhost:8080/"
        },
        "id": "2q4rP-mW_xYP",
        "outputId": "fac128d7-2fa0-4e17-da2f-d444328e4583"
      },
      "execution_count": 32,
      "outputs": [
        {
          "output_type": "stream",
          "name": "stdout",
          "text": [
            "Review: I recently bought a new smartphone, and it's amazi... -> Compound Score: 0.7836\n",
            "Review: The service at this restaurant was terrible. The f... -> Compound Score: -0.5423\n",
            "Review: I’ve tried this skincare cream for a week, and I f... -> Compound Score: 0.8612\n"
          ]
        }
      ]
    },
    {
      "cell_type": "markdown",
      "source": [
        "3. Create a word cloud using the wordcloud library for all positive reviews."
      ],
      "metadata": {
        "id": "6G0AVyI2_xi3"
      }
    },
    {
      "cell_type": "code",
      "source": [
        "def classify_review_textblob(polarity):\n",
        "    if polarity > 0:\n",
        "        return 'Positive'\n",
        "    elif polarity < 0:\n",
        "        return 'Negative'\n",
        "    else:\n",
        "        return 'Neutral'\n",
        "\n",
        "classified_reviews_textblob = []\n",
        "for review in reviews:\n",
        "    polarity, subjectivity = analyze_sentiment_textblob(review)\n",
        "    sentiment_textblob = classify_review_textblob(polarity)\n",
        "    classified_reviews_textblob.append((review, sentiment_textblob))\n",
        "\n",
        "for review, sentiment in classified_reviews_textblob:\n",
        "    print(f\"Review: {review[:50]}... -> Sentiment: {sentiment}\")"
      ],
      "metadata": {
        "colab": {
          "base_uri": "https://localhost:8080/"
        },
        "id": "XnHz0qwP_yGH",
        "outputId": "97abf72d-bcb4-448a-d653-970b833f5ad6"
      },
      "execution_count": 30,
      "outputs": [
        {
          "output_type": "stream",
          "name": "stdout",
          "text": [
            "Review: I recently bought a new smartphone, and it's amazi... -> Sentiment: Positive\n",
            "Review: The service at this restaurant was terrible. The f... -> Sentiment: Negative\n",
            "Review: I’ve tried this skincare cream for a week, and I f... -> Sentiment: Positive\n"
          ]
        }
      ]
    },
    {
      "cell_type": "markdown",
      "source": [
        "**Q6. Choose your own paragraph (~100 words) as training data.**"
      ],
      "metadata": {
        "id": "B3Q4T7WiAb8O"
      }
    },
    {
      "cell_type": "code",
      "source": [
        "text = \"\"\"\n",
        "Artificial intelligence is transforming industries by automating tasks, optimizing processes, and enabling data-driven decision-making.\n",
        "Machine learning, a subset of AI, allows systems to improve from experience without being explicitly programmed.\n",
        "Deep learning, which uses neural networks with many layers, has shown great success in fields such as computer vision and natural language processing.\n",
        "AI has the potential to revolutionize healthcare, transportation, finance, and more, but it also raises concerns about job displacement and ethical implications.\n",
        "As AI continues to evolve, its impact on society will be profound, and its responsible development will be crucial for the future.\n",
        "\"\"\""
      ],
      "metadata": {
        "id": "p6g33ILXAeSu"
      },
      "execution_count": 33,
      "outputs": []
    },
    {
      "cell_type": "markdown",
      "source": [
        "1. Tokenize text using Tokenizer() from keras.preprocessing.text\n"
      ],
      "metadata": {
        "id": "-v1hdSzXAf8u"
      }
    },
    {
      "cell_type": "code",
      "source": [
        "import numpy as np\n",
        "from tensorflow.keras.preprocessing.text import Tokenizer\n",
        "from tensorflow.keras.utils import pad_sequences\n",
        "\n",
        "tokenizer = Tokenizer()\n",
        "tokenizer.fit_on_texts([text])\n",
        "\n",
        "sequences = tokenizer.texts_to_sequences([text])[0]\n",
        "\n",
        "print(\"Sequences:\", sequences)"
      ],
      "metadata": {
        "colab": {
          "base_uri": "https://localhost:8080/"
        },
        "id": "PhmRdoB0AiB2",
        "outputId": "dcc983e1-2f3e-4e6d-c198-c7f7c21b31f0"
      },
      "execution_count": 41,
      "outputs": [
        {
          "output_type": "stream",
          "name": "stdout",
          "text": [
            "Sequences: [11, 12, 13, 14, 15, 16, 17, 18, 19, 20, 1, 21, 22, 23, 24, 25, 26, 4, 27, 28, 29, 2, 30, 31, 3, 32, 33, 34, 35, 36, 37, 38, 39, 4, 40, 41, 42, 43, 44, 45, 46, 5, 47, 48, 49, 50, 51, 52, 6, 53, 54, 1, 55, 56, 57, 2, 5, 7, 58, 3, 59, 60, 61, 62, 1, 63, 64, 65, 66, 67, 68, 69, 70, 71, 1, 72, 73, 6, 2, 74, 3, 75, 8, 76, 77, 78, 9, 10, 79, 1, 8, 80, 81, 9, 10, 82, 83, 7, 84]\n"
          ]
        }
      ]
    },
    {
      "cell_type": "markdown",
      "source": [
        "2. Create input sequences and build a simple LSTM or Dense model\n"
      ],
      "metadata": {
        "id": "YZBAAIaCAiLt"
      }
    },
    {
      "cell_type": "code",
      "source": [
        "from keras.models import Sequential\n",
        "from keras.layers import Embedding, LSTM, Dense, Dropout\n",
        "from keras.preprocessing.sequence import pad_sequences\n",
        "\n",
        "sequence_length = 5\n",
        "X = []\n",
        "y = []\n",
        "\n",
        "for i in range(sequence_length, len(sequences)):\n",
        "    X.append(sequences[i-sequence_length:i])\n",
        "    y.append(sequences[i])\n",
        "\n",
        "X = np.array(X)\n",
        "y = np.array(y)\n",
        "\n",
        "X = pad_sequences(X, padding='pre')\n",
        "\n",
        "model = Sequential()\n",
        "model.add(Embedding(input_dim=len(tokenizer.word_index)+1, output_dim=10, input_length=sequence_length))\n",
        "model.add(LSTM(100, return_sequences=False))\n",
        "model.add(Dropout(0.2))\n",
        "model.add(Dense(len(tokenizer.word_index)+1, activation='softmax'))\n",
        "\n",
        "model.compile(loss='sparse_categorical_crossentropy', optimizer='adam', metrics=['accuracy'])\n",
        "\n",
        "model.summary()"
      ],
      "metadata": {
        "colab": {
          "base_uri": "https://localhost:8080/",
          "height": 257
        },
        "id": "wfzv3UueAjYW",
        "outputId": "eba1631e-33fb-44cc-822f-4e945805eeda"
      },
      "execution_count": 42,
      "outputs": [
        {
          "output_type": "display_data",
          "data": {
            "text/plain": [
              "\u001b[1mModel: \"sequential_1\"\u001b[0m\n"
            ],
            "text/html": [
              "<pre style=\"white-space:pre;overflow-x:auto;line-height:normal;font-family:Menlo,'DejaVu Sans Mono',consolas,'Courier New',monospace\"><span style=\"font-weight: bold\">Model: \"sequential_1\"</span>\n",
              "</pre>\n"
            ]
          },
          "metadata": {}
        },
        {
          "output_type": "display_data",
          "data": {
            "text/plain": [
              "┏━━━━━━━━━━━━━━━━━━━━━━━━━━━━━━━━━━━━━━┳━━━━━━━━━━━━━━━━━━━━━━━━━━━━━┳━━━━━━━━━━━━━━━━━┓\n",
              "┃\u001b[1m \u001b[0m\u001b[1mLayer (type)                        \u001b[0m\u001b[1m \u001b[0m┃\u001b[1m \u001b[0m\u001b[1mOutput Shape               \u001b[0m\u001b[1m \u001b[0m┃\u001b[1m \u001b[0m\u001b[1m        Param #\u001b[0m\u001b[1m \u001b[0m┃\n",
              "┡━━━━━━━━━━━━━━━━━━━━━━━━━━━━━━━━━━━━━━╇━━━━━━━━━━━━━━━━━━━━━━━━━━━━━╇━━━━━━━━━━━━━━━━━┩\n",
              "│ embedding_1 (\u001b[38;5;33mEmbedding\u001b[0m)              │ ?                           │     \u001b[38;5;34m0\u001b[0m (unbuilt) │\n",
              "├──────────────────────────────────────┼─────────────────────────────┼─────────────────┤\n",
              "│ lstm_1 (\u001b[38;5;33mLSTM\u001b[0m)                        │ ?                           │     \u001b[38;5;34m0\u001b[0m (unbuilt) │\n",
              "├──────────────────────────────────────┼─────────────────────────────┼─────────────────┤\n",
              "│ dropout_1 (\u001b[38;5;33mDropout\u001b[0m)                  │ ?                           │               \u001b[38;5;34m0\u001b[0m │\n",
              "├──────────────────────────────────────┼─────────────────────────────┼─────────────────┤\n",
              "│ dense_1 (\u001b[38;5;33mDense\u001b[0m)                      │ ?                           │     \u001b[38;5;34m0\u001b[0m (unbuilt) │\n",
              "└──────────────────────────────────────┴─────────────────────────────┴─────────────────┘\n"
            ],
            "text/html": [
              "<pre style=\"white-space:pre;overflow-x:auto;line-height:normal;font-family:Menlo,'DejaVu Sans Mono',consolas,'Courier New',monospace\">┏━━━━━━━━━━━━━━━━━━━━━━━━━━━━━━━━━━━━━━┳━━━━━━━━━━━━━━━━━━━━━━━━━━━━━┳━━━━━━━━━━━━━━━━━┓\n",
              "┃<span style=\"font-weight: bold\"> Layer (type)                         </span>┃<span style=\"font-weight: bold\"> Output Shape                </span>┃<span style=\"font-weight: bold\">         Param # </span>┃\n",
              "┡━━━━━━━━━━━━━━━━━━━━━━━━━━━━━━━━━━━━━━╇━━━━━━━━━━━━━━━━━━━━━━━━━━━━━╇━━━━━━━━━━━━━━━━━┩\n",
              "│ embedding_1 (<span style=\"color: #0087ff; text-decoration-color: #0087ff\">Embedding</span>)              │ ?                           │     <span style=\"color: #00af00; text-decoration-color: #00af00\">0</span> (unbuilt) │\n",
              "├──────────────────────────────────────┼─────────────────────────────┼─────────────────┤\n",
              "│ lstm_1 (<span style=\"color: #0087ff; text-decoration-color: #0087ff\">LSTM</span>)                        │ ?                           │     <span style=\"color: #00af00; text-decoration-color: #00af00\">0</span> (unbuilt) │\n",
              "├──────────────────────────────────────┼─────────────────────────────┼─────────────────┤\n",
              "│ dropout_1 (<span style=\"color: #0087ff; text-decoration-color: #0087ff\">Dropout</span>)                  │ ?                           │               <span style=\"color: #00af00; text-decoration-color: #00af00\">0</span> │\n",
              "├──────────────────────────────────────┼─────────────────────────────┼─────────────────┤\n",
              "│ dense_1 (<span style=\"color: #0087ff; text-decoration-color: #0087ff\">Dense</span>)                      │ ?                           │     <span style=\"color: #00af00; text-decoration-color: #00af00\">0</span> (unbuilt) │\n",
              "└──────────────────────────────────────┴─────────────────────────────┴─────────────────┘\n",
              "</pre>\n"
            ]
          },
          "metadata": {}
        },
        {
          "output_type": "display_data",
          "data": {
            "text/plain": [
              "\u001b[1m Total params: \u001b[0m\u001b[38;5;34m0\u001b[0m (0.00 B)\n"
            ],
            "text/html": [
              "<pre style=\"white-space:pre;overflow-x:auto;line-height:normal;font-family:Menlo,'DejaVu Sans Mono',consolas,'Courier New',monospace\"><span style=\"font-weight: bold\"> Total params: </span><span style=\"color: #00af00; text-decoration-color: #00af00\">0</span> (0.00 B)\n",
              "</pre>\n"
            ]
          },
          "metadata": {}
        },
        {
          "output_type": "display_data",
          "data": {
            "text/plain": [
              "\u001b[1m Trainable params: \u001b[0m\u001b[38;5;34m0\u001b[0m (0.00 B)\n"
            ],
            "text/html": [
              "<pre style=\"white-space:pre;overflow-x:auto;line-height:normal;font-family:Menlo,'DejaVu Sans Mono',consolas,'Courier New',monospace\"><span style=\"font-weight: bold\"> Trainable params: </span><span style=\"color: #00af00; text-decoration-color: #00af00\">0</span> (0.00 B)\n",
              "</pre>\n"
            ]
          },
          "metadata": {}
        },
        {
          "output_type": "display_data",
          "data": {
            "text/plain": [
              "\u001b[1m Non-trainable params: \u001b[0m\u001b[38;5;34m0\u001b[0m (0.00 B)\n"
            ],
            "text/html": [
              "<pre style=\"white-space:pre;overflow-x:auto;line-height:normal;font-family:Menlo,'DejaVu Sans Mono',consolas,'Courier New',monospace\"><span style=\"font-weight: bold\"> Non-trainable params: </span><span style=\"color: #00af00; text-decoration-color: #00af00\">0</span> (0.00 B)\n",
              "</pre>\n"
            ]
          },
          "metadata": {}
        }
      ]
    },
    {
      "cell_type": "markdown",
      "source": [
        "3. Train the model and generate 2–3 new lines of text starƟng from any seed word you\n",
        "provide."
      ],
      "metadata": {
        "id": "_MWL0mVFAjk-"
      }
    },
    {
      "cell_type": "code",
      "source": [
        "from transformers import GPT2LMHeadModel, GPT2Tokenizer\n",
        "\n",
        "tokenizer = GPT2Tokenizer.from_pretrained('gpt2')\n",
        "model = GPT2LMHeadModel.from_pretrained('gpt2')\n",
        "\n",
        "def generate_text(seed_text, max_length=50):\n",
        "    input_ids = tokenizer.encode(seed_text, return_tensors='pt')\n",
        "\n",
        "    output = model.generate(input_ids, max_length=max_length, num_return_sequences=1, no_repeat_ngram_size=2, temperature=0.7, top_p=0.9, top_k=50)\n",
        "\n",
        "    generated_text = tokenizer.decode(output[0], skip_special_tokens=True)\n",
        "    return generated_text\n",
        "\n",
        "seed_word = \"Artificial intelligence\"\n",
        "generated_text = generate_text(seed_word, max_length=100)"
      ],
      "metadata": {
        "colab": {
          "base_uri": "https://localhost:8080/"
        },
        "collapsed": true,
        "id": "R_I_tt7LAkd3",
        "outputId": "60ead841-82ef-4102-d4b9-e79b2f5841ba"
      },
      "execution_count": 47,
      "outputs": [
        {
          "output_type": "stream",
          "name": "stderr",
          "text": [
            "The attention mask and the pad token id were not set. As a consequence, you may observe unexpected behavior. Please pass your input's `attention_mask` to obtain reliable results.\n",
            "Setting `pad_token_id` to `eos_token_id`:50256 for open-end generation.\n"
          ]
        }
      ]
    },
    {
      "cell_type": "code",
      "source": [
        "print(\"\\nGenerated Text:\", generated_text)"
      ],
      "metadata": {
        "colab": {
          "base_uri": "https://localhost:8080/"
        },
        "id": "FPIZ8TpMDx4s",
        "outputId": "209a2a37-e18a-4c3a-8733-56ad9269ee3d"
      },
      "execution_count": 48,
      "outputs": [
        {
          "output_type": "stream",
          "name": "stdout",
          "text": [
            "\n",
            "Generated Text: Artificial intelligence is a new field of research that has been in the works for a while now. It is now possible to create artificial intelligence that can perform tasks that are difficult to perform in real life.\n",
            "\n",
            "The research was published in Nature Communications. The researchers used a computer program called DeepMind to analyze the neural networks of a group of people who were asked to complete tasks in a virtual reality environment. They then used the program to learn how to use the computer to solve the tasks. This\n"
          ]
        }
      ]
    }
  ]
}