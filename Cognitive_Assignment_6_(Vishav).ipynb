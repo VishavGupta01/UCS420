{
  "nbformat": 4,
  "nbformat_minor": 0,
  "metadata": {
    "colab": {
      "provenance": []
    },
    "kernelspec": {
      "name": "python3",
      "display_name": "Python 3"
    },
    "language_info": {
      "name": "python"
    }
  },
  "cells": [
    {
      "cell_type": "markdown",
      "source": [
        "#Assignment 6.1: WAP using function that add all odd numbers from 1 to n, n is given by the user."
      ],
      "metadata": {
        "id": "UHVFLduHjgUV"
      }
    },
    {
      "cell_type": "code",
      "source": [
        "def addOdd(n):\n",
        "  sum = 0\n",
        "  for i in range(1, n+1):\n",
        "    if i % 2 != 0:\n",
        "      sum += i\n",
        "  return sum\n",
        "\n",
        "n = int(input(\"Enter a number: \"))\n",
        "print(\"Sum of odd numbers from 1 to\", n, \"is\", addOdd(n))"
      ],
      "metadata": {
        "colab": {
          "base_uri": "https://localhost:8080/"
        },
        "id": "3d3L821fjhZz",
        "outputId": "e0c235d5-4514-42c2-c970-72472aeafa5e"
      },
      "execution_count": 1,
      "outputs": [
        {
          "output_type": "stream",
          "name": "stdout",
          "text": [
            "Enter a number: 15\n",
            "Sum of odd numbers from 1 to 15 is 64\n"
          ]
        }
      ]
    },
    {
      "cell_type": "markdown",
      "source": [
        "#Assignment 6.2: WAP using function that add all prime numbers from 1 to n, n given by the user."
      ],
      "metadata": {
        "id": "baolL0pBjn-5"
      }
    },
    {
      "cell_type": "code",
      "source": [
        "def addPrime(n):\n",
        "  sum = 0\n",
        "  for i in range(2, n//2+1):\n",
        "    if n%i != 0:\n",
        "      sum += i\n",
        "  return sum\n",
        "\n",
        "n = int(input(\"Enter a number: \"))\n",
        "print(\"Sum of prime numbers from 1 to\", n, \"is\", addPrime(n))"
      ],
      "metadata": {
        "id": "wkdll8M0jrLE",
        "outputId": "8251154b-a28e-484b-bdd0-7bdf12cb25a6",
        "colab": {
          "base_uri": "https://localhost:8080/"
        }
      },
      "execution_count": 2,
      "outputs": [
        {
          "output_type": "stream",
          "name": "stdout",
          "text": [
            "Enter a number: 15\n",
            "Sum of prime numbers from 1 to 15 is 19\n"
          ]
        }
      ]
    }
  ]
}