{
  "nbformat": 4,
  "nbformat_minor": 0,
  "metadata": {
    "colab": {
      "provenance": []
    },
    "kernelspec": {
      "name": "python3",
      "display_name": "Python 3"
    },
    "language_info": {
      "name": "python"
    }
  },
  "cells": [
    {
      "cell_type": "markdown",
      "source": [
        "# Lab Assignment 5 - Submitted By : Vishav Gupta [102497018]"
      ],
      "metadata": {
        "id": "fX_d14FXiXof"
      }
    },
    {
      "cell_type": "markdown",
      "source": [
        "Q.1 For the array `gfg = np.matrix('[4, 1, 9; 12, 3, 1; 4, 5, 6]')`,\n",
        "Find:\n",
        "\n",
        "i. Sum of all elements\n",
        "\n",
        "ii. Sum of all elements row-wise\n",
        "\n",
        "iii. Sum of all elements column-wise"
      ],
      "metadata": {
        "id": "RcGFPez2iXZv"
      }
    },
    {
      "cell_type": "code",
      "execution_count": 1,
      "metadata": {
        "colab": {
          "base_uri": "https://localhost:8080/"
        },
        "id": "sUn5nYXGiNAG",
        "outputId": "9de0530c-8e23-4957-b3f6-aea569e99e96"
      },
      "outputs": [
        {
          "output_type": "stream",
          "name": "stdout",
          "text": [
            "Sum of all elements: 45\n",
            "Sum of all elements row-wise:\n",
            " [[14]\n",
            " [16]\n",
            " [15]]\n",
            "Sum of all elements column-wise:\n",
            " [[20  9 16]]\n"
          ]
        }
      ],
      "source": [
        "import numpy as np\n",
        "\n",
        "gfg = np.matrix('[4, 1, 9; 12, 3, 1; 4, 5, 6]')\n",
        "\n",
        "# i. Sum of all elements\n",
        "total_sum = np.sum(gfg)\n",
        "\n",
        "# ii. Sum of all elements row-wise\n",
        "row_sum = np.sum(gfg, axis=1)\n",
        "\n",
        "# iii. Sum of all elements column-wise\n",
        "col_sum = np.sum(gfg, axis=0)\n",
        "\n",
        "print(\"Sum of all elements:\", total_sum)\n",
        "print(\"Sum of all elements row-wise:\\n\", row_sum)\n",
        "print(\"Sum of all elements column-wise:\\n\", col_sum)"
      ]
    },
    {
      "cell_type": "markdown",
      "source": [
        "Q.2 (a) For the array: `array = np.array([10, 52, 62, 16, 16, 54, 453])`, find\n",
        "\n",
        "i. Sorted array\n",
        "\n",
        "ii. Indices of sorted array\n",
        "\n",
        "iii. 4 smallest elements\n",
        "\n",
        "iv. 5 largest elements\n",
        "\n",
        "(b) For the array: `array = np.array([1.0, 1.2, 2.2, 2.0, 3.0, 2.0])`, find\n",
        "\n",
        "i. Integer elements only\n",
        "\n",
        "ii. Float elements only"
      ],
      "metadata": {
        "id": "asJ7BZqlipQb"
      }
    },
    {
      "cell_type": "code",
      "source": [
        "import numpy as np\n",
        "\n",
        "array = np.array([10, 52, 62, 16, 16, 54, 453])\n",
        "\n",
        "# i. Sorted array\n",
        "sorted_array = np.sort(array)\n",
        "\n",
        "# ii. Indices of sorted array\n",
        "sorted_indices = np.argsort(array)\n",
        "\n",
        "# iii. 4 smallest elements\n",
        "smallest_4 = np.sort(array)[:4]\n",
        "\n",
        "# iv. 5 largest elements\n",
        "largest_5 = np.sort(array)[-5:]\n",
        "\n",
        "print(\"Sorted array:\", sorted_array)\n",
        "print(\"Indices of sorted array:\", sorted_indices)\n",
        "print(\"4 Smallest elements:\", smallest_4)\n",
        "print(\"5 Largest elements:\", largest_5)"
      ],
      "metadata": {
        "colab": {
          "base_uri": "https://localhost:8080/"
        },
        "id": "_3g6Mfiaios7",
        "outputId": "fe4d8f6d-4f9f-4cc7-9263-047c077c4058"
      },
      "execution_count": 2,
      "outputs": [
        {
          "output_type": "stream",
          "name": "stdout",
          "text": [
            "Sorted array: [ 10  16  16  52  54  62 453]\n",
            "Indices of sorted array: [0 3 4 1 5 2 6]\n",
            "4 Smallest elements: [10 16 16 52]\n",
            "5 Largest elements: [ 16  52  54  62 453]\n"
          ]
        }
      ]
    },
    {
      "cell_type": "code",
      "source": [
        "array = np.array([1.0, 1.2, 2.2, 2.0, 3.0, 2.0])\n",
        "\n",
        "# i. Integer elements only\n",
        "integer_elements = array[array == array.astype(int)]\n",
        "\n",
        "# ii. Float elements only\n",
        "float_elements = array[array != array.astype(int)]\n",
        "\n",
        "print(\"Integer elements only:\", integer_elements)\n",
        "print(\"Float elements only:\", float_elements)"
      ],
      "metadata": {
        "colab": {
          "base_uri": "https://localhost:8080/"
        },
        "id": "rL8J_fali86r",
        "outputId": "d8381c16-f515-4cba-aeb0-430f641eba4b"
      },
      "execution_count": 3,
      "outputs": [
        {
          "output_type": "stream",
          "name": "stdout",
          "text": [
            "Integer elements only: [1. 2. 3. 2.]\n",
            "Float elements only: [1.2 2.2]\n"
          ]
        }
      ]
    },
    {
      "cell_type": "markdown",
      "source": [
        "Q.3 You are given a weekly sales dataset and need to perform various operations\n",
        "using NumPy broadcasting.\n",
        "\n",
        "a) Generate your unique sales dataset:\n",
        "* Take the sum of the ASCII values of the initials of your first and last\n",
        "name. Call this value X. *(If your initials are A B → ASCII sum = 65 + 66 = 131 → sales = [131, 181, 231, 281, 331].)*\n",
        "* Create a NumPy array sales with values [X, X+50, X+100, X+150,\n",
        "X+200].\n",
        "\n",
        "b) Compute your personalized tax rate as ((X % 5) + 5) / 100.\n",
        "* Use broadcasting to apply this tax rate to each sales value.\n",
        "\n",
        "c) Adjust sales based on discount:\n",
        "* If sales < X+100, apply a 5% discount.\n",
        "* If sales >= X+100, apply a 10% discount.\n",
        "\n",
        "d) Expand sales data for multiple weeks:\n",
        "* Create a 3×5 matrix representing three weeks of sales by stacking\n",
        "sales three times using broadcasting.\n",
        "* Increase sales by 2% per week using element-wise broadcasting."
      ],
      "metadata": {
        "id": "w5yrPIlqjB2T"
      }
    },
    {
      "cell_type": "code",
      "source": [
        "import numpy as np\n",
        "\n",
        "# a) Generate sales dataset\n",
        "X = ord('V') + ord('G')\n",
        "sales = np.array([X, X+50, X+100, X+150, X+200])\n",
        "\n",
        "print(\"Sales data:\", sales)"
      ],
      "metadata": {
        "colab": {
          "base_uri": "https://localhost:8080/"
        },
        "id": "l81CFoUKjBRf",
        "outputId": "909eef76-e0ac-4fe6-ebb6-8670dfe85e51"
      },
      "execution_count": 5,
      "outputs": [
        {
          "output_type": "stream",
          "name": "stdout",
          "text": [
            "Sales data: [157 207 257 307 357]\n"
          ]
        }
      ]
    },
    {
      "cell_type": "code",
      "source": [
        "# b) Compute personalized tax rate and apply it\n",
        "tax_rate = ((X % 5) + 5) / 100\n",
        "taxed_sales = sales * tax_rate\n",
        "\n",
        "print(\"Personalized tax rate:\", tax_rate)\n",
        "print(\"Tax applied on sales:\", taxed_sales)"
      ],
      "metadata": {
        "colab": {
          "base_uri": "https://localhost:8080/"
        },
        "id": "duBpvpKojuyI",
        "outputId": "4e624f9e-663d-4899-a080-f3b4d09fae50"
      },
      "execution_count": 6,
      "outputs": [
        {
          "output_type": "stream",
          "name": "stdout",
          "text": [
            "Personalized tax rate: 0.07\n",
            "Tax applied on sales: [10.99 14.49 17.99 21.49 24.99]\n"
          ]
        }
      ]
    },
    {
      "cell_type": "code",
      "source": [
        "# c) Adjust sales based on discount\n",
        "discounted_sales = np.where(sales < X+100, sales * 0.95, sales * 0.90)\n",
        "\n",
        "print(\"Discounted sales:\", discounted_sales)"
      ],
      "metadata": {
        "colab": {
          "base_uri": "https://localhost:8080/"
        },
        "id": "j9yIB5lnj3ey",
        "outputId": "7627b5c8-c0b9-406f-9708-d00636bc7e58"
      },
      "execution_count": 7,
      "outputs": [
        {
          "output_type": "stream",
          "name": "stdout",
          "text": [
            "Discounted sales: [149.15 196.65 231.3  276.3  321.3 ]\n"
          ]
        }
      ]
    },
    {
      "cell_type": "code",
      "source": [
        "# d) Expand sales data for multiple weeks\n",
        "weeks = 3\n",
        "weekly_sales = np.tile(sales, (weeks, 1))\n",
        "\n",
        "week_multipliers = np.array([1.00, 1.02, 1.04]).reshape(3, 1)\n",
        "adjusted_weekly_sales = weekly_sales * week_multipliers\n",
        "\n",
        "print(\"Weekly sales data:\\n\", adjusted_weekly_sales)"
      ],
      "metadata": {
        "colab": {
          "base_uri": "https://localhost:8080/"
        },
        "id": "oCi2XCO8j7ez",
        "outputId": "8d23a264-1fad-43d3-c8ce-9a0cf74b9ed7"
      },
      "execution_count": 8,
      "outputs": [
        {
          "output_type": "stream",
          "name": "stdout",
          "text": [
            "Weekly sales data:\n",
            " [[157.   207.   257.   307.   357.  ]\n",
            " [160.14 211.14 262.14 313.14 364.14]\n",
            " [163.28 215.28 267.28 319.28 371.28]]\n"
          ]
        }
      ]
    },
    {
      "cell_type": "markdown",
      "source": [
        "Q4. Generate x values using np.linspace() from -10 to 10 with 100 points. Use\n",
        "each function from the list below and compute y values using NumPy:\n",
        "* Y = x2\n",
        "* Y = sin(x)\n",
        "* Y = ex\n",
        "* Y = log(|x| + 1)\n",
        "\n",
        "Plot the chosen function using Matplotlib. Add title, labels, and grid for clarity."
      ],
      "metadata": {
        "id": "Ia4OAlmvkDIq"
      }
    },
    {
      "cell_type": "code",
      "source": [
        "import numpy as np\n",
        "import matplotlib.pyplot as plt\n",
        "\n",
        "x = np.linspace(-10, 10, 100)\n",
        "y1, y2, y3, y4 = x**2, np.sin(x), np.exp(x), np.log(np.abs(x) + 1)\n",
        "\n",
        "plt.figure(figsize=(10, 6))\n",
        "plt.plot(x, y1, label=r\"$y = x^2$\", color=\"blue\")\n",
        "plt.plot(x, y2, label=r\"$y = \\sin(x)$\", color=\"red\")\n",
        "plt.plot(x, y3, label=r\"$y = e^x$\", color=\"green\")\n",
        "plt.plot(x, y4, label=r\"$y = \\log(|x| + 1)$\", color=\"purple\")\n",
        "\n",
        "plt.title(\"Mathematical Functions Visualization\", fontsize=14)\n",
        "plt.xlabel(\"x values\", fontsize=12)\n",
        "plt.ylabel(\"y values\", fontsize=12)\n",
        "plt.axhline(0, color='black', linewidth=0.5)\n",
        "plt.axvline(0, color='black', linewidth=0.5)\n",
        "plt.grid(True, linestyle='--', alpha=0.6)\n",
        "plt.legend()\n",
        "plt.show()"
      ],
      "metadata": {
        "colab": {
          "base_uri": "https://localhost:8080/",
          "height": 569
        },
        "id": "tTk-rlnAkAMm",
        "outputId": "83b86419-f40b-415e-e466-a032a0a04955"
      },
      "execution_count": 9,
      "outputs": [
        {
          "output_type": "display_data",
          "data": {
            "text/plain": [
              "<Figure size 1000x600 with 1 Axes>"
            ],
            "image/png": "[encoded data removed]"
          },
          "metadata": {}
        }
      ]
    }
  ]
}